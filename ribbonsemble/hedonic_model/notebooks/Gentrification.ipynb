{
 "cells": [
  {
   "cell_type": "code",
   "execution_count": 6,
   "metadata": {
    "collapsed": false
   },
   "outputs": [
    {
     "name": "stdout",
     "output_type": "stream",
     "text": [
      "import properties...\n",
      "size of training set: 1232 homes\n",
      "size of test set: 308 homes\n"
     ]
    }
   ],
   "source": [
    "#Import relevant libraries:\n",
    "import pandas as pd\n",
    "import matplotlib.pyplot as plt\n",
    "import seaborn as sns\n",
    "import numpy as np\n",
    "from scipy.stats import norm\n",
    "from sklearn.preprocessing import StandardScaler\n",
    "import sklearn as sk\n",
    "import sklearn.model_selection as ms\n",
    "import seaborn as sns\n",
    "sns.set_style('darkgrid')\n",
    "color = sns.color_palette()\n",
    "import matplotlib as mpl\n",
    "import matplotlib.pyplot as plt\n",
    "from scipy import stats\n",
    "import warnings\n",
    "warnings.filterwarnings('ignore')\n",
    "%matplotlib inline\n",
    "from django.core.wsgi import get_wsgi_application\n",
    "from matplotlib import pyplot as plt\n",
    "import sys\n",
    "sys.path.append(r'/home/sanjeev/models/ribbonsemble/ribbonsemble/scripts/')\n",
    "sys.path.append(r'/home/sanjeev/models/ribbonsemble/ribbonsemble/')\n",
    "sys.path.append(r'/home/sanjeev/models/ribbonsemble/ribbonsemble/hedonic_model/ml/utils/')\n",
    "import load_properties as lp\n",
    "import load_soldproperties as lsp\n",
    "lp.setup_environment()\n",
    "%matplotlib inline\n",
    "import mplleaflet\n",
    "import ast\n",
    "import data_utils\n",
    "import data_utils as du\n",
    "from scipy.stats import norm, skew \n",
    "\n",
    "\n",
    "#Create df of SoldProperties\n",
    "#Base off this kernel: https://www.kaggle.com/pmarcelino/comprehensive-data-exploration-with-python\n",
    "from hedonic_model.models import SoldProperty\n",
    "#Data included: Built after 1900; at least 1BR and 1BATH; \n",
    "#Px btw 50k-2mm\n",
    "from hedonic_model.models import ListProperty\n",
    "from django_pandas.io import read_frame\n",
    "pd.options.display.float_format = '{:.2f}'.format\n",
    "qs = SoldProperty.objects.all()\n",
    "df = read_frame(qs)\n",
    "#Create test set and training set\n",
    "df_train, df_test = ms.train_test_split(df,test_size=0.2)\n",
    "print('size of training set: {} homes'.format(len(df_train)))\n",
    "print('size of test set: {} homes'.format(len(df_test)))\n"
   ]
  },
  {
   "cell_type": "code",
   "execution_count": 7,
   "metadata": {
    "collapsed": true
   },
   "outputs": [],
   "source": [
    "df_train['date_sold'] = df_train['sale_price_history'].apply(du.history_to_sold_date)\n",
    "df_test['date_sold'] = df_test['sale_price_history'].apply(du.history_to_sold_date)\n",
    "df_train = df_train[pd.notnull(df_train['date_sold'])]\n",
    "\n",
    "df_train['year_sold'] = df_train['date_sold'].apply(lambda x: x.year)\n",
    "df_train['month_sold'] = df_train['date_sold'].apply(lambda x: x.month)\n",
    "df_test['year_sold'] = df_test['date_sold'].apply(lambda x: x.year)\n",
    "df_test['month_sold'] = df_test['date_sold'].apply(lambda x: x.month)"
   ]
  },
  {
   "cell_type": "code",
   "execution_count": 8,
   "metadata": {
    "collapsed": false
   },
   "outputs": [],
   "source": [
    "df_train_90s = df_train[df_train['year_sold']<2000]"
   ]
  },
  {
   "cell_type": "code",
   "execution_count": 10,
   "metadata": {
    "collapsed": false
   },
   "outputs": [],
   "source": [
    "import data_utils as du"
   ]
  },
  {
   "cell_type": "code",
   "execution_count": 11,
   "metadata": {
    "collapsed": true
   },
   "outputs": [],
   "source": [
    "du.mapHomes(df_train_90s)"
   ]
  },
  {
   "cell_type": "code",
   "execution_count": 12,
   "metadata": {
    "collapsed": true
   },
   "outputs": [],
   "source": [
    "df_train_00s = df_train[(df_train['year_sold']>=2000) & (df_train['year_sold']<=2010)]"
   ]
  },
  {
   "cell_type": "code",
   "execution_count": 13,
   "metadata": {
    "collapsed": true
   },
   "outputs": [],
   "source": [
    "df_train_10s = df_train[df_train['year_sold']>2010]"
   ]
  },
  {
   "cell_type": "code",
   "execution_count": 14,
   "metadata": {
    "collapsed": true
   },
   "outputs": [],
   "source": [
    "du.mapHomes(df_train_00s)"
   ]
  },
  {
   "cell_type": "code",
   "execution_count": 15,
   "metadata": {
    "collapsed": true
   },
   "outputs": [],
   "source": [
    "du.mapHomes(df_train_10s)"
   ]
  },
  {
   "cell_type": "code",
   "execution_count": 18,
   "metadata": {
    "collapsed": false
   },
   "outputs": [],
   "source": [
    "from sklearn.cluster import KMeans\n",
    "\n",
    "data_ul = df_train[['latitude','longitude','sold_price']]"
   ]
  },
  {
   "cell_type": "code",
   "execution_count": 19,
   "metadata": {
    "collapsed": true
   },
   "outputs": [],
   "source": [
    "from sklearn.cluster import KMeans\n",
    "data = data_ul.values\n",
    "model = KMeans(n_clusters=7)\n",
    "model.fit(data)\n",
    "\n",
    "labels = model.labels_\n",
    "centroids = model.cluster_centers_"
   ]
  },
  {
   "cell_type": "code",
   "execution_count": 23,
   "metadata": {
    "collapsed": false
   },
   "outputs": [],
   "source": [
    "import matplotlib.pyplot as plt\n",
    "import numpy as np\n",
    "\n",
    "for i in range(7):\n",
    "    # Plot the points. Hint: Try using principal component analysis (PCA) to narrow down features.\n",
    "    datapoints = data[np.where(labels==i)]\n"
   ]
  },
  {
   "cell_type": "code",
   "execution_count": null,
   "metadata": {
    "collapsed": false
   },
   "outputs": [],
   "source": []
  },
  {
   "cell_type": "code",
   "execution_count": null,
   "metadata": {
    "collapsed": true
   },
   "outputs": [],
   "source": []
  }
 ],
 "metadata": {
  "anaconda-cloud": {},
  "kernelspec": {
   "display_name": "Python [conda env:rooftop]",
   "language": "python",
   "name": "conda-env-rooftop-py"
  },
  "language_info": {
   "codemirror_mode": {
    "name": "ipython",
    "version": 3
   },
   "file_extension": ".py",
   "mimetype": "text/x-python",
   "name": "python",
   "nbconvert_exporter": "python",
   "pygments_lexer": "ipython3",
   "version": "3.6.2"
  }
 },
 "nbformat": 4,
 "nbformat_minor": 1
}
