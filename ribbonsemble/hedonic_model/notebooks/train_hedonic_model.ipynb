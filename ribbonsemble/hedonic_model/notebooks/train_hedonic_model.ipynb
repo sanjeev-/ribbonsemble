{
 "cells": [
  {
   "cell_type": "code",
   "execution_count": 1,
   "metadata": {
    "collapsed": false,
    "nbpresent": {
     "id": "7aaf7afc-8c31-40c9-a037-3be9563842ad"
    }
   },
   "outputs": [
    {
     "name": "stdout",
     "output_type": "stream",
     "text": [
      "import properties...\n"
     ]
    }
   ],
   "source": [
    "#Import relevant libraries:\n",
    "import pandas as pd\n",
    "import matplotlib.pyplot as plt\n",
    "import seaborn as sns\n",
    "import numpy as np\n",
    "from scipy.stats import norm\n",
    "from sklearn.preprocessing import StandardScaler\n",
    "import sklearn as sk\n",
    "import sklearn.model_selection as ms\n",
    "import seaborn as sns\n",
    "sns.set_style('darkgrid')\n",
    "color = sns.color_palette()\n",
    "import matplotlib as mpl\n",
    "import matplotlib.pyplot as plt\n",
    "from scipy import stats\n",
    "import warnings\n",
    "warnings.filterwarnings('ignore')\n",
    "%matplotlib inline\n",
    "from django.core.wsgi import get_wsgi_application\n",
    "from matplotlib import pyplot as plt\n",
    "import sys\n",
    "sys.path.append(r'/home/sanjeev/models/ribbonsemble/ribbonsemble/scripts/')\n",
    "sys.path.append(r'/home/sanjeev/models/ribbonsemble/ribbonsemble/')\n",
    "sys.path.append(r'/home/sanjeev/models/ribbonsemble/ribbonsemble/hedonic_model/ml/utils/')\n",
    "import load_properties as lp\n",
    "import load_soldproperties as lsp\n",
    "lp.setup_environment()\n",
    "%matplotlib inline\n",
    "import mplleaflet\n",
    "import ast\n",
    "import data_utils\n",
    "import data_utils as du\n",
    "from scipy.stats import norm, skew "
   ]
  },
  {
   "cell_type": "code",
   "execution_count": 2,
   "metadata": {
    "collapsed": false,
    "nbpresent": {
     "id": "e02f35fd-63e7-4aa0-a9bf-68e1313775d1"
    },
    "scrolled": true
   },
   "outputs": [
    {
     "name": "stdout",
     "output_type": "stream",
     "text": [
      "size of training set: 1232 homes\n",
      "size of test set: 308 homes\n"
     ]
    }
   ],
   "source": [
    "#Create df of SoldProperties\n",
    "#Base off this kernel: https://www.kaggle.com/pmarcelino/comprehensive-data-exploration-with-python\n",
    "from hedonic_model.models import SoldProperty\n",
    "#Data included: Built after 1900; at least 1BR and 1BATH; \n",
    "#Px btw 50k-2mm\n",
    "from hedonic_model.models import ListProperty\n",
    "from django_pandas.io import read_frame\n",
    "pd.options.display.float_format = '{:.2f}'.format\n",
    "qs = SoldProperty.objects.all()\n",
    "df = read_frame(qs)\n",
    "#Create test set and training set\n",
    "df_train, df_test = ms.train_test_split(df,test_size=0.2)\n",
    "print('size of training set: {} homes'.format(len(df_train)))\n",
    "print('size of test set: {} homes'.format(len(df_test)))\n"
   ]
  },
  {
   "cell_type": "markdown",
   "metadata": {
    "nbpresent": {
     "id": "cf2560cb-59ae-4143-80f4-950ccfd3414b"
    }
   },
   "source": [
    "<b>PART 1: Exploratory Data Analysis</b>"
   ]
  },
  {
   "cell_type": "markdown",
   "metadata": {
    "nbpresent": {
     "id": "004642b0-4eee-4e94-a017-40301d7ae593"
    }
   },
   "source": [
    "<b> Part 1A: Features Summary, Expectations, Segmentation, Response Analysis, Comments </b>"
   ]
  },
  {
   "cell_type": "markdown",
   "metadata": {
    "nbpresent": {
     "id": "fef87f3f-30e2-4d3b-9c26-82872662d825"
    }
   },
   "source": [
    "Current Features:\n",
    "* **zip_code** *Categorical* | Location | Medium | Zipcodes can overlap neighborhoods\n",
    "* **latitude** *Numerical* | Location | High | Best representation of location  \n",
    "* **longitude** *Numerical* | Location | High | Best representation of location\n",
    "* **num_bedrooms** *Numerical* | Building | High | House size\n",
    "* **num_bathrooms** *Numerical* | Building | High | House size\n",
    "* **building_area_sq_ft** *Numerical* | Building | High | House size\n",
    "* **home_type** *Numerical* | Building | Medium | Most will be explained with other vars\n",
    "* **sale_price_history**: *Numerical* | Building | Medium | More useful in recent sales model, not hedonic\n",
    "* **num_floors** *Numerical* | Building | Low | Data captured in other vars\n",
    "* **rx_num_half_bath** *Numerical* | Building | Low | Data captured in other vars\n",
    "* **rx_num_full_bath** *Numerical* | Building | Low | Data captured in other vars\n",
    "* **year_built** *Numerical* | Building | Medium | Useful to find new builds which are worth more in general, and old properties that might have old age appeal\n",
    "* **listing_status** *Categorical* | Location | Low | All these are sold; useless\n",
    "* **flooring** *Categorical* | Quality | Medium | Better flooring will sell for more\n",
    "* **interior_features** *Categorical* | Quality | Medium | Better interior features will sell for more\n",
    "* **subdivision** *Categorical* | Location | Medium | Proxy for location/neighborhood\n",
    "* **has_septic** *Categorical* | Quality | Low | Septic is worse, means it's rural\n",
    "* **has_pool** *Categorical* | Quality | Medium | Pools might have a discount but a good proxy for neighborhood/location also\n",
    "* **has_established_subdivision** *Categorical* | Location | Low | Is it in the middle of nowhere or not\n",
    "* **has_well** *Categorical* | Quality | Medium | Better flooring will sell for more\n",
    "* **has_garage** *Categorical* | Building | Medium | Garages are valued\n",
    "\n",
    "* **garage_size** *Numerical* | Quality | Medium | Larger garages are more valued than smaller ones\n",
    "* **description** *String* | Building/Quality | Medium | Need to parse this and engineer features to use this\n",
    "\n",
    "Obvious Engineered Features:\n",
    "* **sold_date** use history_to_last_sold_date (in data utils)\n",
    "* **coordinates** turn latitude and longitude into coordinate pair\n",
    "    * (NEIGHBORHOODS via K-Means clustering)\n",
    "    * Distance from KEY POINTS (good schools etc)\n",
    "\n",
    "\n",
    "Discarded: REASON\n",
    "* **street_address_1**: redundant with lat/lon\n",
    "* **street_address_2**: redundant with lat/lon\n",
    "* **city**: all in charlotte\n",
    "* **state**: all in north carolina\n",
    "* **id**: arbitrary number \n",
    "* **hc_slug**: arbitrary text string\n",
    "* **img_path_header**: arbitrary text string\n",
    "* **img_paths_gallery**: arbitrary text string\n",
    "* **local_school_quality**: disabled for now\n",
    "* **remax_url**: arbitrary text string\n",
    "* **red_bell_ave**: want this to be independent model\n",
    "* **red_bell_ar_bpo**: want this to be independent model\n",
    "* **red_bell_bpo**: want this to be independent model\n",
    "* **certified_max_bid**: want this to be independent model\n",
    "* **certified_max_bid_created_at**: want this to be independent model\n",
    "* **house_canary_avm**: want this to be independent model\n",
    "* **lowercase_slug**: arbitrary text string\n",
    "* **no_pool_well_septic** combination of other features\n",
    "* **is_foreclosure** false for all values"
   ]
  },
  {
   "cell_type": "code",
   "execution_count": 3,
   "metadata": {
    "collapsed": false,
    "nbpresent": {
     "id": "efc70657-cf09-4cfe-9c61-12868d6f567b"
    },
    "scrolled": true
   },
   "outputs": [],
   "source": [
    "drop_cols = ['red_bell_ar_bpo','red_bell_bpo','certified_max_bid',\n",
    " 'local_school_quality',\n",
    "'certified_max_bid_created_at',\n",
    "'house_canary_avm',\n",
    "'red_bell_ave',\n",
    "'is_foreclosure','img_path_header','img_paths_gallery','remax_url']\n",
    "df_train = df_train.drop(drop_cols,axis=1)\n",
    "df_test = df_test.drop(drop_cols,axis=1)"
   ]
  },
  {
   "cell_type": "code",
   "execution_count": 4,
   "metadata": {
    "collapsed": false,
    "nbpresent": {
     "id": "a040cd46-6b98-4c7f-9376-bd91f9ff256c"
    }
   },
   "outputs": [
    {
     "data": {
      "text/plain": [
       "count       308.00\n",
       "mean     472224.14\n",
       "std      384193.45\n",
       "min       55000.00\n",
       "25%      219675.00\n",
       "50%      352450.00\n",
       "75%      549925.00\n",
       "max     1999500.00\n",
       "Name: sold_price, dtype: float64"
      ]
     },
     "execution_count": 4,
     "metadata": {},
     "output_type": "execute_result"
    }
   ],
   "source": [
    "#Analyzing the Response/Target Variable: Sold Price\n",
    "df_train['sold_price'].describe()\n",
    "df_test['sold_price'].describe()"
   ]
  },
  {
   "cell_type": "code",
   "execution_count": 5,
   "metadata": {
    "collapsed": false,
    "nbpresent": {
     "id": "0b72c39c-c595-4bcb-bf99-b14c87a087bc"
    }
   },
   "outputs": [
    {
     "data": {
      "text/plain": [
       "Index(['id', 'street_address_1', 'street_address_2', 'city', 'state',\n",
       "       'zip_code', 'latitude', 'longitude', 'hc_slug', 'lowercase_slug',\n",
       "       'sold_price', 'num_bedrooms', 'num_bathrooms', 'building_area_sq_ft',\n",
       "       'home_type', 'sale_price_history', 'num_floors', 'rx_num_half_bath',\n",
       "       'rx_num_full_bath', 'year_built', 'listing_status', 'flooring',\n",
       "       'interior_features', 'subdivision', 'description', 'has_septic',\n",
       "       'has_pool', 'has_established_subdivision', 'has_well', 'has_garage',\n",
       "       'no_pool_well_septic', 'garage_size'],\n",
       "      dtype='object')"
      ]
     },
     "execution_count": 5,
     "metadata": {},
     "output_type": "execute_result"
    }
   ],
   "source": [
    "df_train.columns"
   ]
  },
  {
   "cell_type": "code",
   "execution_count": 6,
   "metadata": {
    "collapsed": false,
    "nbpresent": {
     "id": "95d0bc54-8ca5-4dd3-ac82-991d1f949460"
    }
   },
   "outputs": [
    {
     "data": {
      "text/plain": [
       "<matplotlib.axes._subplots.AxesSubplot at 0x7f5d28bd3198>"
      ]
     },
     "execution_count": 6,
     "metadata": {},
     "output_type": "execute_result"
    },
    {
     "data": {
      "image/png": "[encoded data removed]",
      "text/plain": [
       "<matplotlib.figure.Figure at 0x7f5d68464dd8>"
      ]
     },
     "metadata": {},
     "output_type": "display_data"
    }
   ],
   "source": [
    "sns.distplot(df_train['sold_price'])"
   ]
  },
  {
   "cell_type": "markdown",
   "metadata": {
    "nbpresent": {
     "id": "2260a8be-a3c1-4b11-b37a-f7686f25778a"
    }
   },
   "source": [
    "<b> We have learned that: </b>\n",
    "* Sale price is not normally distributed\n",
    "* Sale price has positive skewness (long right tail)\n",
    "* Shows peakedness (distribution concentrated heavily in middle;\n",
    "  skinny tails)"
   ]
  },
  {
   "cell_type": "code",
   "execution_count": 7,
   "metadata": {
    "collapsed": false,
    "nbpresent": {
     "id": "e248506e-e3ca-4358-a840-0ed31ae75769"
    }
   },
   "outputs": [
    {
     "name": "stdout",
     "output_type": "stream",
     "text": [
      "Skewness: 1.8744475943489114\n",
      "Kurtosis: 4.03609971505912\n"
     ]
    }
   ],
   "source": [
    "#Skewness and Kurtosis:\n",
    "print('Skewness: {}'.format(df_train['sold_price'].skew()))\n",
    "print('Kurtosis: {}'.format(df_train['sold_price'].kurt()))"
   ]
  },
  {
   "cell_type": "markdown",
   "metadata": {
    "nbpresent": {
     "id": "ce427c31-6516-42e2-8691-144a0eff4ae1"
    }
   },
   "source": [
    "* Skew > 0 means *positively skewed*\n",
    "* Kurtosis > 0 means *peakedness/skinny tails*"
   ]
  },
  {
   "cell_type": "markdown",
   "metadata": {
    "nbpresent": {
     "id": "36adf7a3-8db6-4bb7-8c6b-1b12735007b9"
    }
   },
   "source": [
    "<b> Relationship of Sold Price to Expected high value  variables </b>:\n",
    "\n",
    "<b>1. Building Area (Square Ft) </b>"
   ]
  },
  {
   "cell_type": "code",
   "execution_count": 8,
   "metadata": {
    "collapsed": false,
    "nbpresent": {
     "id": "ee54b15d-59ca-4126-8f84-a51df7d00ef7"
    }
   },
   "outputs": [
    {
     "data": {
      "image/png": "[encoded data removed]",
      "text/plain": [
       "<matplotlib.figure.Figure at 0x7f5d28b5f0b8>"
      ]
     },
     "metadata": {},
     "output_type": "display_data"
    }
   ],
   "source": [
    "var = 'building_area_sq_ft'\n",
    "ax = sns.regplot(x=var,y='sold_price',data=df_train)\n"
   ]
  },
  {
   "cell_type": "markdown",
   "metadata": {
    "nbpresent": {
     "id": "487a167f-a302-4067-9f5c-40d2aa6513f2"
    }
   },
   "source": [
    "A pretty clear linear relationship.  However, it seems heteroskedastic (ie, errors are not constant)\n",
    "\n",
    "<b> 2. Num Bed and Baths </b>"
   ]
  },
  {
   "cell_type": "code",
   "execution_count": 9,
   "metadata": {
    "collapsed": false,
    "nbpresent": {
     "id": "5c2b394a-6699-4273-99b2-0a24479d7f03"
    }
   },
   "outputs": [
    {
     "data": {
      "text/plain": [
       "Text(0.5,1,'charlotte: price distribution per num bedrooms')"
      ]
     },
     "execution_count": 9,
     "metadata": {},
     "output_type": "execute_result"
    },
    {
     "data": {
      "image/png": "[encoded data removed]",
      "text/plain": [
       "<matplotlib.figure.Figure at 0x7f5d288f4978>"
      ]
     },
     "metadata": {},
     "output_type": "display_data"
    }
   ],
   "source": [
    "var = 'num_bedrooms'\n",
    "f, ax = plt.subplots(figsize=(8,6))\n",
    "fig = sns.boxplot(x=var,y='sold_price',data=df_train)\n",
    "ax.set_title('charlotte: price distribution per num bedrooms')"
   ]
  },
  {
   "cell_type": "code",
   "execution_count": 10,
   "metadata": {
    "collapsed": false,
    "nbpresent": {
     "id": "6bb0a335-c907-4b44-8aeb-dc45accdd821"
    }
   },
   "outputs": [
    {
     "data": {
      "text/plain": [
       "Text(0.5,1,'charlotte: price distribution per num bathrooms')"
      ]
     },
     "execution_count": 10,
     "metadata": {},
     "output_type": "execute_result"
    },
    {
     "data": {
      "image/png": "[encoded data removed]",
      "text/plain": [
       "<matplotlib.figure.Figure at 0x7f5d28ae63c8>"
      ]
     },
     "metadata": {},
     "output_type": "display_data"
    }
   ],
   "source": [
    "var = 'num_bathrooms'\n",
    "f, ax = plt.subplots(figsize=(8,6))\n",
    "fig = sns.boxplot(x=var,y='sold_price',data=df_train)\n",
    "ax.set_title('charlotte: price distribution per num bathrooms')"
   ]
  },
  {
   "cell_type": "code",
   "execution_count": 11,
   "metadata": {
    "collapsed": false,
    "nbpresent": {
     "id": "eee8fa52-f18c-4bc6-9470-693efc7fd732"
    }
   },
   "outputs": [
    {
     "data": {
      "text/plain": [
       "Text(0.5,1,'price sold vs year built')"
      ]
     },
     "execution_count": 11,
     "metadata": {},
     "output_type": "execute_result"
    },
    {
     "data": {
      "image/png": "[encoded data removed]",
      "text/plain": [
       "<matplotlib.figure.Figure at 0x7f5d24f26080>"
      ]
     },
     "metadata": {},
     "output_type": "display_data"
    }
   ],
   "source": [
    "var = 'year_built'\n",
    "f, ax = plt.subplots(figsize=(16, 8))\n",
    "fig = sns.boxplot(x=var, y=\"sold_price\", data=df_train)\n",
    "fig.axis(ymin=0, ymax=2000000)\n",
    "plt.xticks(rotation=90)\n",
    "ax.set_title('price sold vs year built')"
   ]
  },
  {
   "cell_type": "code",
   "execution_count": 12,
   "metadata": {
    "collapsed": false,
    "nbpresent": {
     "id": "8d810b47-3cc3-476d-802c-6814d66ae94f"
    },
    "scrolled": true
   },
   "outputs": [
    {
     "data": {
      "text/plain": [
       "(array([ 0,  1,  2,  3,  4,  5,  6,  7,  8,  9, 10, 11, 12, 13, 14, 15, 16,\n",
       "        17, 18, 19, 20, 21, 22]), <a list of 23 Text xticklabel objects>)"
      ]
     },
     "execution_count": 12,
     "metadata": {},
     "output_type": "execute_result"
    },
    {
     "data": {
      "image/png": "[encoded data removed]",
      "text/plain": [
       "<matplotlib.figure.Figure at 0x7f5d2484b080>"
      ]
     },
     "metadata": {},
     "output_type": "display_data"
    }
   ],
   "source": [
    "var = 'zip_code'\n",
    "f, ax = plt.subplots(figsize=(8,6))\n",
    "fig = sns.boxplot(x=var,y='sold_price',data=df_train)\n",
    "ax.set_title('charlotte: price distribution per zipcode')\n",
    "plt.xticks(rotation=90)"
   ]
  },
  {
   "cell_type": "markdown",
   "metadata": {
    "nbpresent": {
     "id": "69b843c0-071e-41ba-9a3a-6ceac6aa3ece"
    }
   },
   "source": [
    "<b> Conclusion: </b>\n",
    "\n",
    "* Definitely found some important variables, but there are many more to explore\n",
    "\n",
    "* We want to implement a combination of feature selection and feature engineering\n",
    "\n",
    "* There are way more variables to explore, and have used intuition so far, so time to do a more objective, quantitative analysis:"
   ]
  },
  {
   "cell_type": "markdown",
   "metadata": {
    "nbpresent": {
     "id": "63e2aa1a-a5f6-4b16-868c-cedf858fec31"
    }
   },
   "source": [
    "<b> PART B: Objective analysis</b>\n",
    "\n",
    "* Correlation matrix (heatmap)\n",
    "* Sold Price correlation matrix\n",
    "* Satterplots between most correlated variables"
   ]
  },
  {
   "cell_type": "code",
   "execution_count": 13,
   "metadata": {
    "collapsed": false,
    "nbpresent": {
     "id": "4ac65935-3b47-489d-b0e4-2fc7541a985a"
    }
   },
   "outputs": [
    {
     "data": {
      "text/plain": [
       "<matplotlib.axes._subplots.AxesSubplot at 0x7f5d25515390>"
      ]
     },
     "execution_count": 13,
     "metadata": {},
     "output_type": "execute_result"
    },
    {
     "data": {
      "image/png": "[encoded data removed]",
      "text/plain": [
       "<matplotlib.figure.Figure at 0x7f5d2468bf28>"
      ]
     },
     "metadata": {},
     "output_type": "display_data"
    }
   ],
   "source": [
    "#Correlation matrix\n",
    "corrmat = df_train.corr()\n",
    "d, ax = plt.subplots(figsize=(12,9))\n",
    "sns.heatmap(corrmat,vmax=0.8,square=True)"
   ]
  },
  {
   "cell_type": "markdown",
   "metadata": {
    "nbpresent": {
     "id": "a21a59ae-5996-4e01-8198-bca9eb9741ca"
    }
   },
   "source": [
    "**Conclusions:**"
   ]
  },
  {
   "cell_type": "code",
   "execution_count": 14,
   "metadata": {
    "collapsed": false,
    "nbpresent": {
     "id": "598149e0-a488-49d7-942e-4f06414f6942"
    },
    "scrolled": true
   },
   "outputs": [
    {
     "data": {
      "image/png": "[encoded data removed]",
      "text/plain": [
       "<matplotlib.figure.Figure at 0x7f5d2550dc88>"
      ]
     },
     "metadata": {},
     "output_type": "display_data"
    }
   ],
   "source": [
    "df_train = df_train[pd.notnull(df_train['building_area_sq_ft'])]\n",
    "df_train = df_train[pd.notnull(df_train['num_floors'])]\n",
    "df_train['garage_size']=df_train['garage_size'].fillna(0)\n",
    "df_train['num_bedrooms']=df_train['num_bedrooms'].apply(lambda x: float(x))\n",
    "df_train['num_bathrooms']=df_train['num_bathrooms'].apply(lambda x: float(x))\n",
    "#saleprice correlation matrix\n",
    "k = 6 #number of variables for heatmap\n",
    "cols = corrmat.nlargest(k, 'sold_price')['sold_price'].index\n",
    "cm = np.corrcoef(df_train[cols].values.T)\n",
    "sns.set(font_scale=1.25)\n",
    "hm = sns.heatmap(cm, cbar=True, annot=True, square=True, fmt='.2f', annot_kws={'size': 10}, yticklabels=cols.values, xticklabels=cols.values)\n",
    "plt.show()\n"
   ]
  },
  {
   "cell_type": "code",
   "execution_count": 15,
   "metadata": {
    "collapsed": false,
    "nbpresent": {
     "id": "00745cb0-a061-41a5-8a0e-cafbce9735dd"
    },
    "scrolled": true
   },
   "outputs": [
    {
     "data": {
      "image/png": "[encoded data removed]",
      "text/plain": [
       "<matplotlib.figure.Figure at 0x7f5d2460c7f0>"
      ]
     },
     "metadata": {},
     "output_type": "display_data"
    }
   ],
   "source": [
    "#scatterplot\n",
    "sns.set()\n",
    "cols = ['sold_price','building_area_sq_ft','year_built','num_bedrooms','num_bathrooms','garage_size']\n",
    "sns.pairplot(df_train[cols], size = 2.5)\n",
    "plt.show()"
   ]
  },
  {
   "cell_type": "markdown",
   "metadata": {
    "nbpresent": {
     "id": "91e0619a-261e-4e47-82da-e153c2d9ca10"
    }
   },
   "source": [
    "<b> PART C: MISSING DATA </b>"
   ]
  },
  {
   "cell_type": "code",
   "execution_count": 16,
   "metadata": {
    "collapsed": false,
    "nbpresent": {
     "id": "f47c4cce-e7b9-4181-be8e-b08a9057dc54"
    },
    "scrolled": true
   },
   "outputs": [
    {
     "data": {
      "text/html": [
       "<div>\n",
       "<style scoped>\n",
       "    .dataframe tbody tr th:only-of-type {\n",
       "        vertical-align: middle;\n",
       "    }\n",
       "\n",
       "    .dataframe tbody tr th {\n",
       "        vertical-align: top;\n",
       "    }\n",
       "\n",
       "    .dataframe thead th {\n",
       "        text-align: right;\n",
       "    }\n",
       "</style>\n",
       "<table border=\"1\" class=\"dataframe\">\n",
       "  <thead>\n",
       "    <tr style=\"text-align: right;\">\n",
       "      <th></th>\n",
       "      <th>Total</th>\n",
       "      <th>Percent</th>\n",
       "    </tr>\n",
       "  </thead>\n",
       "  <tbody>\n",
       "    <tr>\n",
       "      <th>interior_features</th>\n",
       "      <td>285</td>\n",
       "      <td>0.23</td>\n",
       "    </tr>\n",
       "    <tr>\n",
       "      <th>flooring</th>\n",
       "      <td>108</td>\n",
       "      <td>0.09</td>\n",
       "    </tr>\n",
       "    <tr>\n",
       "      <th>subdivision</th>\n",
       "      <td>79</td>\n",
       "      <td>0.06</td>\n",
       "    </tr>\n",
       "    <tr>\n",
       "      <th>has_well</th>\n",
       "      <td>16</td>\n",
       "      <td>0.01</td>\n",
       "    </tr>\n",
       "    <tr>\n",
       "      <th>has_septic</th>\n",
       "      <td>16</td>\n",
       "      <td>0.01</td>\n",
       "    </tr>\n",
       "    <tr>\n",
       "      <th>has_pool</th>\n",
       "      <td>6</td>\n",
       "      <td>0.00</td>\n",
       "    </tr>\n",
       "    <tr>\n",
       "      <th>description</th>\n",
       "      <td>6</td>\n",
       "      <td>0.00</td>\n",
       "    </tr>\n",
       "    <tr>\n",
       "      <th>zip_code</th>\n",
       "      <td>0</td>\n",
       "      <td>0.00</td>\n",
       "    </tr>\n",
       "    <tr>\n",
       "      <th>lowercase_slug</th>\n",
       "      <td>0</td>\n",
       "      <td>0.00</td>\n",
       "    </tr>\n",
       "    <tr>\n",
       "      <th>hc_slug</th>\n",
       "      <td>0</td>\n",
       "      <td>0.00</td>\n",
       "    </tr>\n",
       "    <tr>\n",
       "      <th>longitude</th>\n",
       "      <td>0</td>\n",
       "      <td>0.00</td>\n",
       "    </tr>\n",
       "    <tr>\n",
       "      <th>latitude</th>\n",
       "      <td>0</td>\n",
       "      <td>0.00</td>\n",
       "    </tr>\n",
       "    <tr>\n",
       "      <th>garage_size</th>\n",
       "      <td>0</td>\n",
       "      <td>0.00</td>\n",
       "    </tr>\n",
       "    <tr>\n",
       "      <th>state</th>\n",
       "      <td>0</td>\n",
       "      <td>0.00</td>\n",
       "    </tr>\n",
       "    <tr>\n",
       "      <th>city</th>\n",
       "      <td>0</td>\n",
       "      <td>0.00</td>\n",
       "    </tr>\n",
       "    <tr>\n",
       "      <th>num_bedrooms</th>\n",
       "      <td>0</td>\n",
       "      <td>0.00</td>\n",
       "    </tr>\n",
       "    <tr>\n",
       "      <th>street_address_2</th>\n",
       "      <td>0</td>\n",
       "      <td>0.00</td>\n",
       "    </tr>\n",
       "    <tr>\n",
       "      <th>street_address_1</th>\n",
       "      <td>0</td>\n",
       "      <td>0.00</td>\n",
       "    </tr>\n",
       "    <tr>\n",
       "      <th>sold_price</th>\n",
       "      <td>0</td>\n",
       "      <td>0.00</td>\n",
       "    </tr>\n",
       "    <tr>\n",
       "      <th>sale_price_history</th>\n",
       "      <td>0</td>\n",
       "      <td>0.00</td>\n",
       "    </tr>\n",
       "  </tbody>\n",
       "</table>\n",
       "</div>"
      ],
      "text/plain": [
       "                    Total  Percent\n",
       "interior_features     285     0.23\n",
       "flooring              108     0.09\n",
       "subdivision            79     0.06\n",
       "has_well               16     0.01\n",
       "has_septic             16     0.01\n",
       "has_pool                6     0.00\n",
       "description             6     0.00\n",
       "zip_code                0     0.00\n",
       "lowercase_slug          0     0.00\n",
       "hc_slug                 0     0.00\n",
       "longitude               0     0.00\n",
       "latitude                0     0.00\n",
       "garage_size             0     0.00\n",
       "state                   0     0.00\n",
       "city                    0     0.00\n",
       "num_bedrooms            0     0.00\n",
       "street_address_2        0     0.00\n",
       "street_address_1        0     0.00\n",
       "sold_price              0     0.00\n",
       "sale_price_history      0     0.00"
      ]
     },
     "execution_count": 16,
     "metadata": {},
     "output_type": "execute_result"
    }
   ],
   "source": [
    "#missing data\n",
    "total = df_train.isnull().sum().sort_values(ascending=False)\n",
    "percent = (df_train.isnull().sum()/df_train.isnull().count()).sort_values(ascending=False)\n",
    "missing_data = pd.concat([total, percent], axis=1, keys=['Total', 'Percent'])\n",
    "missing_data.head(20)"
   ]
  },
  {
   "cell_type": "code",
   "execution_count": 17,
   "metadata": {
    "collapsed": false,
    "nbpresent": {
     "id": "77507577-bb0e-4e06-b4f7-7afc0655ef08"
    }
   },
   "outputs": [],
   "source": [
    "df_train['interior_features'] = df_train['interior_features'].fillna('')\n",
    "df_train['flooring'] = df_train['flooring'].fillna('')\n"
   ]
  },
  {
   "cell_type": "code",
   "execution_count": 18,
   "metadata": {
    "collapsed": false,
    "nbpresent": {
     "id": "6b91663d-7c0d-490b-aae7-cce8b9c68291"
    }
   },
   "outputs": [],
   "source": [
    "df_train = df_train.drop((missing_data[missing_data['Total'] > 0]).index,1)"
   ]
  },
  {
   "cell_type": "code",
   "execution_count": 19,
   "metadata": {
    "collapsed": false,
    "nbpresent": {
     "id": "cbe4f51d-c206-4868-9282-b96b721c9a93"
    },
    "scrolled": true
   },
   "outputs": [
    {
     "data": {
      "text/html": [
       "<div>\n",
       "<style scoped>\n",
       "    .dataframe tbody tr th:only-of-type {\n",
       "        vertical-align: middle;\n",
       "    }\n",
       "\n",
       "    .dataframe tbody tr th {\n",
       "        vertical-align: top;\n",
       "    }\n",
       "\n",
       "    .dataframe thead th {\n",
       "        text-align: right;\n",
       "    }\n",
       "</style>\n",
       "<table border=\"1\" class=\"dataframe\">\n",
       "  <thead>\n",
       "    <tr style=\"text-align: right;\">\n",
       "      <th></th>\n",
       "      <th>Total</th>\n",
       "      <th>Percent</th>\n",
       "    </tr>\n",
       "  </thead>\n",
       "  <tbody>\n",
       "    <tr>\n",
       "      <th>garage_size</th>\n",
       "      <td>0</td>\n",
       "      <td>0.00</td>\n",
       "    </tr>\n",
       "    <tr>\n",
       "      <th>num_bedrooms</th>\n",
       "      <td>0</td>\n",
       "      <td>0.00</td>\n",
       "    </tr>\n",
       "    <tr>\n",
       "      <th>street_address_1</th>\n",
       "      <td>0</td>\n",
       "      <td>0.00</td>\n",
       "    </tr>\n",
       "    <tr>\n",
       "      <th>street_address_2</th>\n",
       "      <td>0</td>\n",
       "      <td>0.00</td>\n",
       "    </tr>\n",
       "    <tr>\n",
       "      <th>city</th>\n",
       "      <td>0</td>\n",
       "      <td>0.00</td>\n",
       "    </tr>\n",
       "    <tr>\n",
       "      <th>state</th>\n",
       "      <td>0</td>\n",
       "      <td>0.00</td>\n",
       "    </tr>\n",
       "    <tr>\n",
       "      <th>zip_code</th>\n",
       "      <td>0</td>\n",
       "      <td>0.00</td>\n",
       "    </tr>\n",
       "    <tr>\n",
       "      <th>latitude</th>\n",
       "      <td>0</td>\n",
       "      <td>0.00</td>\n",
       "    </tr>\n",
       "    <tr>\n",
       "      <th>longitude</th>\n",
       "      <td>0</td>\n",
       "      <td>0.00</td>\n",
       "    </tr>\n",
       "    <tr>\n",
       "      <th>hc_slug</th>\n",
       "      <td>0</td>\n",
       "      <td>0.00</td>\n",
       "    </tr>\n",
       "    <tr>\n",
       "      <th>lowercase_slug</th>\n",
       "      <td>0</td>\n",
       "      <td>0.00</td>\n",
       "    </tr>\n",
       "    <tr>\n",
       "      <th>sold_price</th>\n",
       "      <td>0</td>\n",
       "      <td>0.00</td>\n",
       "    </tr>\n",
       "    <tr>\n",
       "      <th>num_bathrooms</th>\n",
       "      <td>0</td>\n",
       "      <td>0.00</td>\n",
       "    </tr>\n",
       "    <tr>\n",
       "      <th>no_pool_well_septic</th>\n",
       "      <td>0</td>\n",
       "      <td>0.00</td>\n",
       "    </tr>\n",
       "    <tr>\n",
       "      <th>building_area_sq_ft</th>\n",
       "      <td>0</td>\n",
       "      <td>0.00</td>\n",
       "    </tr>\n",
       "    <tr>\n",
       "      <th>home_type</th>\n",
       "      <td>0</td>\n",
       "      <td>0.00</td>\n",
       "    </tr>\n",
       "    <tr>\n",
       "      <th>sale_price_history</th>\n",
       "      <td>0</td>\n",
       "      <td>0.00</td>\n",
       "    </tr>\n",
       "    <tr>\n",
       "      <th>num_floors</th>\n",
       "      <td>0</td>\n",
       "      <td>0.00</td>\n",
       "    </tr>\n",
       "    <tr>\n",
       "      <th>rx_num_half_bath</th>\n",
       "      <td>0</td>\n",
       "      <td>0.00</td>\n",
       "    </tr>\n",
       "    <tr>\n",
       "      <th>rx_num_full_bath</th>\n",
       "      <td>0</td>\n",
       "      <td>0.00</td>\n",
       "    </tr>\n",
       "  </tbody>\n",
       "</table>\n",
       "</div>"
      ],
      "text/plain": [
       "                     Total  Percent\n",
       "garage_size              0     0.00\n",
       "num_bedrooms             0     0.00\n",
       "street_address_1         0     0.00\n",
       "street_address_2         0     0.00\n",
       "city                     0     0.00\n",
       "state                    0     0.00\n",
       "zip_code                 0     0.00\n",
       "latitude                 0     0.00\n",
       "longitude                0     0.00\n",
       "hc_slug                  0     0.00\n",
       "lowercase_slug           0     0.00\n",
       "sold_price               0     0.00\n",
       "num_bathrooms            0     0.00\n",
       "no_pool_well_septic      0     0.00\n",
       "building_area_sq_ft      0     0.00\n",
       "home_type                0     0.00\n",
       "sale_price_history       0     0.00\n",
       "num_floors               0     0.00\n",
       "rx_num_half_bath         0     0.00\n",
       "rx_num_full_bath         0     0.00"
      ]
     },
     "execution_count": 19,
     "metadata": {},
     "output_type": "execute_result"
    }
   ],
   "source": [
    "#rechecking missing data\n",
    "total = df_train.isnull().sum().sort_values(ascending=False)\n",
    "percent = (df_train.isnull().sum()/df_train.isnull().count()).sort_values(ascending=False)\n",
    "missing_data = pd.concat([total, percent], axis=1, keys=['Total', 'Percent'])\n",
    "missing_data.head(20)"
   ]
  },
  {
   "cell_type": "markdown",
   "metadata": {
    "nbpresent": {
     "id": "d38ba30e-002d-4d01-986c-0c0e026463a0"
    }
   },
   "source": [
    "<b> PART D: OUTLIERS </b>"
   ]
  },
  {
   "cell_type": "code",
   "execution_count": 20,
   "metadata": {
    "collapsed": false,
    "nbpresent": {
     "id": "38bae5e0-b230-4498-b119-e768e6ffe861"
    }
   },
   "outputs": [
    {
     "name": "stdout",
     "output_type": "stream",
     "text": [
      "outer range (low) of the distribution:\n",
      "[[-1.21394594]\n",
      " [-1.18203225]\n",
      " [-1.17246134]\n",
      " [-1.15043771]\n",
      " [-1.13448086]\n",
      " [-1.13416173]\n",
      " [-1.13416173]\n",
      " [-1.11852402]\n",
      " [-1.11820488]\n",
      " [-1.11182215]]\n",
      "\n",
      "outer range (high) of the distribution:\n",
      "[[ 3.97202783]\n",
      " [ 4.0358552 ]\n",
      " [ 4.0358552 ]\n",
      " [ 4.35499205]\n",
      " [ 4.35499205]\n",
      " [ 4.36775752]\n",
      " [ 4.61030153]\n",
      " [ 4.61030153]\n",
      " [ 4.6741289 ]\n",
      " [ 4.6741289 ]]\n"
     ]
    }
   ],
   "source": [
    "#Univariate analysis\n",
    "#standardizing data\n",
    "saleprice_scaled = StandardScaler().fit_transform(df_train['sold_price'][:,np.newaxis]);\n",
    "low_range = saleprice_scaled[saleprice_scaled[:,0].argsort()][:10]\n",
    "high_range= saleprice_scaled[saleprice_scaled[:,0].argsort()][-10:]\n",
    "print('outer range (low) of the distribution:')\n",
    "print(low_range)\n",
    "print('\\nouter range (high) of the distribution:')\n",
    "print(high_range)"
   ]
  },
  {
   "cell_type": "markdown",
   "metadata": {
    "nbpresent": {
     "id": "0a7f2b60-e5a6-4e41-8e5d-ae23dad18427"
    }
   },
   "source": [
    "Low range values arent that far from zero...\n",
    "\n",
    "High range values has some outliers.  The 3+ standard deviation results are worth being cautious about, but not worth removing right now"
   ]
  },
  {
   "cell_type": "markdown",
   "metadata": {
    "nbpresent": {
     "id": "917b1484-2851-42fd-ad8f-4c99bf647f51"
    }
   },
   "source": [
    "<b> PART E: Normalizing Response Variable  </b>"
   ]
  },
  {
   "cell_type": "code",
   "execution_count": 21,
   "metadata": {
    "collapsed": false,
    "nbpresent": {
     "id": "0040881c-b47f-4de0-a9d9-48bb6cb039bf"
    }
   },
   "outputs": [
    {
     "data": {
      "image/png": "[encoded data removed]",
      "text/plain": [
       "<matplotlib.figure.Figure at 0x7f5d1e976e80>"
      ]
     },
     "metadata": {},
     "output_type": "display_data"
    },
    {
     "data": {
      "image/png": "[encoded data removed]",
      "text/plain": [
       "<matplotlib.figure.Figure at 0x7f5d245290f0>"
      ]
     },
     "metadata": {},
     "output_type": "display_data"
    }
   ],
   "source": [
    "#histogram and normal probability plot\n",
    "sns.distplot(df_train['sold_price'], fit=norm);\n",
    "fig = plt.figure()\n",
    "res = stats.probplot(df_train['sold_price'], plot=plt)"
   ]
  },
  {
   "cell_type": "code",
   "execution_count": 22,
   "metadata": {
    "collapsed": false,
    "nbpresent": {
     "id": "45305a38-5626-456d-8e2f-66b5f6de08ee"
    }
   },
   "outputs": [
    {
     "data": {
      "image/png": "[encoded data removed]",
      "text/plain": [
       "<matplotlib.figure.Figure at 0x7f5d1ca966a0>"
      ]
     },
     "metadata": {},
     "output_type": "display_data"
    },
    {
     "data": {
      "image/png": "[encoded data removed]",
      "text/plain": [
       "<matplotlib.figure.Figure at 0x7f5d1ca96a20>"
      ]
     },
     "metadata": {},
     "output_type": "display_data"
    }
   ],
   "source": [
    "#applying log transformation\n",
    "df_train['sold_price'] = np.log(df_train['sold_price'])\n",
    "#transformed histogram and normal probability plot\n",
    "sns.distplot(df_train['sold_price'], fit=norm);\n",
    "fig = plt.figure()\n",
    "res = stats.probplot(df_train['sold_price'], plot=plt)"
   ]
  },
  {
   "cell_type": "markdown",
   "metadata": {
    "nbpresent": {
     "id": "1fc1165e-96fc-43c6-b3f4-0dea42d0f087"
    }
   },
   "source": [
    "<b> Conclusion: </b>\n",
    "\n",
    "This normalizes the response variable so that it better approximates a normal distribution"
   ]
  },
  {
   "cell_type": "code",
   "execution_count": 23,
   "metadata": {
    "collapsed": false,
    "nbpresent": {
     "id": "85a17cc1-7227-46cf-98c8-3855ecdf46d0"
    }
   },
   "outputs": [
    {
     "data": {
      "image/png": "[encoded data removed]",
      "text/plain": [
       "<matplotlib.figure.Figure at 0x7f5d245e3550>"
      ]
     },
     "metadata": {},
     "output_type": "display_data"
    },
    {
     "data": {
      "image/png": "[encoded data removed]",
      "text/plain": [
       "<matplotlib.figure.Figure at 0x7f5d245e3438>"
      ]
     },
     "metadata": {},
     "output_type": "display_data"
    }
   ],
   "source": [
    "#histogram and normal probability plot\n",
    "sns.distplot(df_train['building_area_sq_ft'], fit=norm);\n",
    "fig = plt.figure()\n",
    "res = stats.probplot(df_train['building_area_sq_ft'], plot=plt)"
   ]
  },
  {
   "cell_type": "code",
   "execution_count": 24,
   "metadata": {
    "collapsed": false,
    "nbpresent": {
     "id": "d0e25907-dc43-4050-9ba5-6303480a93fc"
    },
    "scrolled": true
   },
   "outputs": [
    {
     "data": {
      "text/plain": [
       "Index(['id', 'street_address_1', 'street_address_2', 'city', 'state',\n",
       "       'zip_code', 'latitude', 'longitude', 'hc_slug', 'lowercase_slug',\n",
       "       'sold_price', 'num_bedrooms', 'num_bathrooms', 'building_area_sq_ft',\n",
       "       'home_type', 'sale_price_history', 'num_floors', 'rx_num_half_bath',\n",
       "       'rx_num_full_bath', 'year_built', 'listing_status',\n",
       "       'has_established_subdivision', 'has_garage', 'no_pool_well_septic',\n",
       "       'garage_size'],\n",
       "      dtype='object')"
      ]
     },
     "execution_count": 24,
     "metadata": {},
     "output_type": "execute_result"
    }
   ],
   "source": [
    "df_train.columns"
   ]
  },
  {
   "cell_type": "code",
   "execution_count": 25,
   "metadata": {
    "collapsed": false,
    "nbpresent": {
     "id": "2e44dc41-e841-4b50-aa2b-2118677a4e95"
    },
    "scrolled": true
   },
   "outputs": [
    {
     "data": {
      "image/png": "[encoded data removed]",
      "text/plain": [
       "<matplotlib.figure.Figure at 0x7f5d1c89f128>"
      ]
     },
     "metadata": {},
     "output_type": "display_data"
    },
    {
     "data": {
      "image/png": "[encoded data removed]",
      "text/plain": [
       "<matplotlib.figure.Figure at 0x7f5d245e3c50>"
      ]
     },
     "metadata": {},
     "output_type": "display_data"
    }
   ],
   "source": [
    "#applying log transformation\n",
    "df_train['building_area_sq_ft'] = np.log(df_train['building_area_sq_ft'])\n",
    "#transformed histogram and normal probability plot\n",
    "sns.distplot(df_train['building_area_sq_ft'], fit=norm);\n",
    "fig = plt.figure()\n",
    "res = stats.probplot(df_train['building_area_sq_ft'], plot=plt)"
   ]
  },
  {
   "cell_type": "markdown",
   "metadata": {
    "nbpresent": {
     "id": "29c3d594-323f-4d39-8d3d-c1f4154288b0"
    }
   },
   "source": [
    "<b> PART II : Some Feature Engineering </b>"
   ]
  },
  {
   "cell_type": "code",
   "execution_count": 26,
   "metadata": {
    "collapsed": true,
    "nbpresent": {
     "id": "9a4292c8-2c54-4aa6-aee0-239eab587404"
    }
   },
   "outputs": [],
   "source": [
    "# Base off this script: https://www.kaggle.com/humananalog/xgboost-lasso"
   ]
  },
  {
   "cell_type": "code",
   "execution_count": 27,
   "metadata": {
    "collapsed": false,
    "nbpresent": {
     "id": "7306a075-636a-4c39-b963-dbdb2b3a5ee3"
    }
   },
   "outputs": [],
   "source": [
    "#Year and Month Sold are transformed into Categorical Features:"
   ]
  },
  {
   "cell_type": "code",
   "execution_count": 28,
   "metadata": {
    "collapsed": false,
    "nbpresent": {
     "id": "0fd9865d-2998-47c0-8638-fe83bd4d74cb"
    }
   },
   "outputs": [],
   "source": [
    "df_train['date_sold'] = df_train['sale_price_history'].apply(du.history_to_sold_date)\n",
    "df_test['date_sold'] = df_test['sale_price_history'].apply(du.history_to_sold_date)"
   ]
  },
  {
   "cell_type": "code",
   "execution_count": 29,
   "metadata": {
    "collapsed": false,
    "nbpresent": {
     "id": "8bb8813a-f3fe-4193-8d98-98a37dd17a40"
    }
   },
   "outputs": [],
   "source": [
    "df_train = df_train[pd.notnull(df_train['date_sold'])]\n",
    "\n",
    "df_train['year_sold'] = df_train['date_sold'].apply(lambda x: str(x.year))\n",
    "df_train['month_sold'] = df_train['date_sold'].apply(lambda x: str(x.month))\n",
    "df_test['year_sold'] = df_test['date_sold'].apply(lambda x: str(x.year))\n",
    "df_test['month_sold'] = df_test['date_sold'].apply(lambda x: str(x.month))"
   ]
  },
  {
   "cell_type": "code",
   "execution_count": 30,
   "metadata": {
    "collapsed": false
   },
   "outputs": [],
   "source": [
    "#y_train = df_train['sold_price']\n",
    "#df_train = df_train.drop(['sold_price'],axis=1)\n",
    "df_train = df_train.drop(['date_sold'],axis=1)"
   ]
  },
  {
   "cell_type": "code",
   "execution_count": 31,
   "metadata": {
    "collapsed": false
   },
   "outputs": [],
   "source": [
    "y_train = df_train['sold_price']\n",
    "df_train = df_train[['zip_code','num_bedrooms','num_bathrooms','building_area_sq_ft','year_sold','month_sold']]"
   ]
  },
  {
   "cell_type": "code",
   "execution_count": 32,
   "metadata": {
    "collapsed": false,
    "scrolled": false
   },
   "outputs": [
    {
     "data": {
      "text/html": [
       "<div>\n",
       "<style scoped>\n",
       "    .dataframe tbody tr th:only-of-type {\n",
       "        vertical-align: middle;\n",
       "    }\n",
       "\n",
       "    .dataframe tbody tr th {\n",
       "        vertical-align: top;\n",
       "    }\n",
       "\n",
       "    .dataframe thead th {\n",
       "        text-align: right;\n",
       "    }\n",
       "</style>\n",
       "<table border=\"1\" class=\"dataframe\">\n",
       "  <thead>\n",
       "    <tr style=\"text-align: right;\">\n",
       "      <th></th>\n",
       "      <th>Total</th>\n",
       "      <th>Percent</th>\n",
       "    </tr>\n",
       "  </thead>\n",
       "  <tbody>\n",
       "    <tr>\n",
       "      <th>month_sold</th>\n",
       "      <td>0</td>\n",
       "      <td>0.00</td>\n",
       "    </tr>\n",
       "    <tr>\n",
       "      <th>year_sold</th>\n",
       "      <td>0</td>\n",
       "      <td>0.00</td>\n",
       "    </tr>\n",
       "    <tr>\n",
       "      <th>building_area_sq_ft</th>\n",
       "      <td>0</td>\n",
       "      <td>0.00</td>\n",
       "    </tr>\n",
       "    <tr>\n",
       "      <th>num_bathrooms</th>\n",
       "      <td>0</td>\n",
       "      <td>0.00</td>\n",
       "    </tr>\n",
       "    <tr>\n",
       "      <th>num_bedrooms</th>\n",
       "      <td>0</td>\n",
       "      <td>0.00</td>\n",
       "    </tr>\n",
       "    <tr>\n",
       "      <th>zip_code</th>\n",
       "      <td>0</td>\n",
       "      <td>0.00</td>\n",
       "    </tr>\n",
       "  </tbody>\n",
       "</table>\n",
       "</div>"
      ],
      "text/plain": [
       "                     Total  Percent\n",
       "month_sold               0     0.00\n",
       "year_sold                0     0.00\n",
       "building_area_sq_ft      0     0.00\n",
       "num_bathrooms            0     0.00\n",
       "num_bedrooms             0     0.00\n",
       "zip_code                 0     0.00"
      ]
     },
     "execution_count": 32,
     "metadata": {},
     "output_type": "execute_result"
    }
   ],
   "source": [
    "#rechecking missing data\n",
    "total = df_train.isnull().sum().sort_values(ascending=False)\n",
    "percent = (df_train.isnull().sum()/df_train.isnull().count()).sort_values(ascending=False)\n",
    "missing_data = pd.concat([total, percent], axis=1, keys=['Total', 'Percent'])\n",
    "missing_data.head(20)"
   ]
  },
  {
   "cell_type": "code",
   "execution_count": 33,
   "metadata": {
    "collapsed": false,
    "scrolled": true
   },
   "outputs": [
    {
     "data": {
      "text/html": [
       "<div>\n",
       "<style scoped>\n",
       "    .dataframe tbody tr th:only-of-type {\n",
       "        vertical-align: middle;\n",
       "    }\n",
       "\n",
       "    .dataframe tbody tr th {\n",
       "        vertical-align: top;\n",
       "    }\n",
       "\n",
       "    .dataframe thead th {\n",
       "        text-align: right;\n",
       "    }\n",
       "</style>\n",
       "<table border=\"1\" class=\"dataframe\">\n",
       "  <thead>\n",
       "    <tr style=\"text-align: right;\">\n",
       "      <th></th>\n",
       "      <th>num_bedrooms</th>\n",
       "      <th>num_bathrooms</th>\n",
       "      <th>building_area_sq_ft</th>\n",
       "      <th>zip_code_28203</th>\n",
       "      <th>zip_code_28204</th>\n",
       "      <th>zip_code_28205</th>\n",
       "      <th>zip_code_28206</th>\n",
       "      <th>zip_code_28207</th>\n",
       "      <th>zip_code_28208</th>\n",
       "      <th>zip_code_28209</th>\n",
       "      <th>...</th>\n",
       "      <th>month_sold_11</th>\n",
       "      <th>month_sold_12</th>\n",
       "      <th>month_sold_2</th>\n",
       "      <th>month_sold_3</th>\n",
       "      <th>month_sold_4</th>\n",
       "      <th>month_sold_5</th>\n",
       "      <th>month_sold_6</th>\n",
       "      <th>month_sold_7</th>\n",
       "      <th>month_sold_8</th>\n",
       "      <th>month_sold_9</th>\n",
       "    </tr>\n",
       "  </thead>\n",
       "  <tbody>\n",
       "    <tr>\n",
       "      <th>549</th>\n",
       "      <td>4.00</td>\n",
       "      <td>4.00</td>\n",
       "      <td>8.02</td>\n",
       "      <td>0</td>\n",
       "      <td>0</td>\n",
       "      <td>0</td>\n",
       "      <td>0</td>\n",
       "      <td>0</td>\n",
       "      <td>0</td>\n",
       "      <td>0</td>\n",
       "      <td>...</td>\n",
       "      <td>0</td>\n",
       "      <td>0</td>\n",
       "      <td>0</td>\n",
       "      <td>0</td>\n",
       "      <td>0</td>\n",
       "      <td>0</td>\n",
       "      <td>0</td>\n",
       "      <td>0</td>\n",
       "      <td>0</td>\n",
       "      <td>1</td>\n",
       "    </tr>\n",
       "    <tr>\n",
       "      <th>1089</th>\n",
       "      <td>4.00</td>\n",
       "      <td>4.00</td>\n",
       "      <td>8.24</td>\n",
       "      <td>0</td>\n",
       "      <td>0</td>\n",
       "      <td>0</td>\n",
       "      <td>0</td>\n",
       "      <td>0</td>\n",
       "      <td>0</td>\n",
       "      <td>0</td>\n",
       "      <td>...</td>\n",
       "      <td>0</td>\n",
       "      <td>0</td>\n",
       "      <td>1</td>\n",
       "      <td>0</td>\n",
       "      <td>0</td>\n",
       "      <td>0</td>\n",
       "      <td>0</td>\n",
       "      <td>0</td>\n",
       "      <td>0</td>\n",
       "      <td>0</td>\n",
       "    </tr>\n",
       "    <tr>\n",
       "      <th>442</th>\n",
       "      <td>3.00</td>\n",
       "      <td>3.00</td>\n",
       "      <td>7.58</td>\n",
       "      <td>0</td>\n",
       "      <td>0</td>\n",
       "      <td>1</td>\n",
       "      <td>0</td>\n",
       "      <td>0</td>\n",
       "      <td>0</td>\n",
       "      <td>0</td>\n",
       "      <td>...</td>\n",
       "      <td>0</td>\n",
       "      <td>0</td>\n",
       "      <td>0</td>\n",
       "      <td>0</td>\n",
       "      <td>0</td>\n",
       "      <td>0</td>\n",
       "      <td>0</td>\n",
       "      <td>0</td>\n",
       "      <td>0</td>\n",
       "      <td>0</td>\n",
       "    </tr>\n",
       "    <tr>\n",
       "      <th>729</th>\n",
       "      <td>2.00</td>\n",
       "      <td>1.00</td>\n",
       "      <td>6.64</td>\n",
       "      <td>0</td>\n",
       "      <td>0</td>\n",
       "      <td>0</td>\n",
       "      <td>0</td>\n",
       "      <td>0</td>\n",
       "      <td>1</td>\n",
       "      <td>0</td>\n",
       "      <td>...</td>\n",
       "      <td>0</td>\n",
       "      <td>0</td>\n",
       "      <td>0</td>\n",
       "      <td>0</td>\n",
       "      <td>0</td>\n",
       "      <td>0</td>\n",
       "      <td>0</td>\n",
       "      <td>0</td>\n",
       "      <td>0</td>\n",
       "      <td>1</td>\n",
       "    </tr>\n",
       "    <tr>\n",
       "      <th>1445</th>\n",
       "      <td>4.00</td>\n",
       "      <td>4.00</td>\n",
       "      <td>8.21</td>\n",
       "      <td>0</td>\n",
       "      <td>0</td>\n",
       "      <td>0</td>\n",
       "      <td>0</td>\n",
       "      <td>0</td>\n",
       "      <td>0</td>\n",
       "      <td>0</td>\n",
       "      <td>...</td>\n",
       "      <td>0</td>\n",
       "      <td>1</td>\n",
       "      <td>0</td>\n",
       "      <td>0</td>\n",
       "      <td>0</td>\n",
       "      <td>0</td>\n",
       "      <td>0</td>\n",
       "      <td>0</td>\n",
       "      <td>0</td>\n",
       "      <td>0</td>\n",
       "    </tr>\n",
       "    <tr>\n",
       "      <th>432</th>\n",
       "      <td>3.00</td>\n",
       "      <td>2.00</td>\n",
       "      <td>7.67</td>\n",
       "      <td>0</td>\n",
       "      <td>0</td>\n",
       "      <td>0</td>\n",
       "      <td>0</td>\n",
       "      <td>0</td>\n",
       "      <td>0</td>\n",
       "      <td>0</td>\n",
       "      <td>...</td>\n",
       "      <td>0</td>\n",
       "      <td>0</td>\n",
       "      <td>0</td>\n",
       "      <td>0</td>\n",
       "      <td>1</td>\n",
       "      <td>0</td>\n",
       "      <td>0</td>\n",
       "      <td>0</td>\n",
       "      <td>0</td>\n",
       "      <td>0</td>\n",
       "    </tr>\n",
       "    <tr>\n",
       "      <th>1209</th>\n",
       "      <td>3.00</td>\n",
       "      <td>3.00</td>\n",
       "      <td>7.51</td>\n",
       "      <td>0</td>\n",
       "      <td>0</td>\n",
       "      <td>0</td>\n",
       "      <td>0</td>\n",
       "      <td>0</td>\n",
       "      <td>0</td>\n",
       "      <td>0</td>\n",
       "      <td>...</td>\n",
       "      <td>0</td>\n",
       "      <td>0</td>\n",
       "      <td>0</td>\n",
       "      <td>0</td>\n",
       "      <td>0</td>\n",
       "      <td>0</td>\n",
       "      <td>1</td>\n",
       "      <td>0</td>\n",
       "      <td>0</td>\n",
       "      <td>0</td>\n",
       "    </tr>\n",
       "    <tr>\n",
       "      <th>1140</th>\n",
       "      <td>5.00</td>\n",
       "      <td>7.00</td>\n",
       "      <td>8.52</td>\n",
       "      <td>0</td>\n",
       "      <td>0</td>\n",
       "      <td>0</td>\n",
       "      <td>0</td>\n",
       "      <td>0</td>\n",
       "      <td>0</td>\n",
       "      <td>0</td>\n",
       "      <td>...</td>\n",
       "      <td>1</td>\n",
       "      <td>0</td>\n",
       "      <td>0</td>\n",
       "      <td>0</td>\n",
       "      <td>0</td>\n",
       "      <td>0</td>\n",
       "      <td>0</td>\n",
       "      <td>0</td>\n",
       "      <td>0</td>\n",
       "      <td>0</td>\n",
       "    </tr>\n",
       "    <tr>\n",
       "      <th>1520</th>\n",
       "      <td>4.00</td>\n",
       "      <td>4.00</td>\n",
       "      <td>8.19</td>\n",
       "      <td>0</td>\n",
       "      <td>0</td>\n",
       "      <td>0</td>\n",
       "      <td>0</td>\n",
       "      <td>0</td>\n",
       "      <td>0</td>\n",
       "      <td>0</td>\n",
       "      <td>...</td>\n",
       "      <td>0</td>\n",
       "      <td>0</td>\n",
       "      <td>0</td>\n",
       "      <td>0</td>\n",
       "      <td>0</td>\n",
       "      <td>1</td>\n",
       "      <td>0</td>\n",
       "      <td>0</td>\n",
       "      <td>0</td>\n",
       "      <td>0</td>\n",
       "    </tr>\n",
       "    <tr>\n",
       "      <th>654</th>\n",
       "      <td>3.00</td>\n",
       "      <td>3.00</td>\n",
       "      <td>7.21</td>\n",
       "      <td>0</td>\n",
       "      <td>0</td>\n",
       "      <td>0</td>\n",
       "      <td>0</td>\n",
       "      <td>0</td>\n",
       "      <td>0</td>\n",
       "      <td>0</td>\n",
       "      <td>...</td>\n",
       "      <td>0</td>\n",
       "      <td>1</td>\n",
       "      <td>0</td>\n",
       "      <td>0</td>\n",
       "      <td>0</td>\n",
       "      <td>0</td>\n",
       "      <td>0</td>\n",
       "      <td>0</td>\n",
       "      <td>0</td>\n",
       "      <td>0</td>\n",
       "    </tr>\n",
       "    <tr>\n",
       "      <th>138</th>\n",
       "      <td>3.00</td>\n",
       "      <td>3.00</td>\n",
       "      <td>7.34</td>\n",
       "      <td>0</td>\n",
       "      <td>0</td>\n",
       "      <td>0</td>\n",
       "      <td>0</td>\n",
       "      <td>0</td>\n",
       "      <td>0</td>\n",
       "      <td>0</td>\n",
       "      <td>...</td>\n",
       "      <td>0</td>\n",
       "      <td>0</td>\n",
       "      <td>0</td>\n",
       "      <td>0</td>\n",
       "      <td>0</td>\n",
       "      <td>0</td>\n",
       "      <td>0</td>\n",
       "      <td>0</td>\n",
       "      <td>0</td>\n",
       "      <td>1</td>\n",
       "    </tr>\n",
       "    <tr>\n",
       "      <th>120</th>\n",
       "      <td>4.00</td>\n",
       "      <td>3.00</td>\n",
       "      <td>8.04</td>\n",
       "      <td>0</td>\n",
       "      <td>0</td>\n",
       "      <td>0</td>\n",
       "      <td>0</td>\n",
       "      <td>0</td>\n",
       "      <td>0</td>\n",
       "      <td>0</td>\n",
       "      <td>...</td>\n",
       "      <td>0</td>\n",
       "      <td>0</td>\n",
       "      <td>0</td>\n",
       "      <td>0</td>\n",
       "      <td>1</td>\n",
       "      <td>0</td>\n",
       "      <td>0</td>\n",
       "      <td>0</td>\n",
       "      <td>0</td>\n",
       "      <td>0</td>\n",
       "    </tr>\n",
       "    <tr>\n",
       "      <th>649</th>\n",
       "      <td>5.00</td>\n",
       "      <td>3.00</td>\n",
       "      <td>7.92</td>\n",
       "      <td>0</td>\n",
       "      <td>0</td>\n",
       "      <td>0</td>\n",
       "      <td>0</td>\n",
       "      <td>0</td>\n",
       "      <td>0</td>\n",
       "      <td>0</td>\n",
       "      <td>...</td>\n",
       "      <td>0</td>\n",
       "      <td>0</td>\n",
       "      <td>0</td>\n",
       "      <td>1</td>\n",
       "      <td>0</td>\n",
       "      <td>0</td>\n",
       "      <td>0</td>\n",
       "      <td>0</td>\n",
       "      <td>0</td>\n",
       "      <td>0</td>\n",
       "    </tr>\n",
       "    <tr>\n",
       "      <th>1008</th>\n",
       "      <td>4.00</td>\n",
       "      <td>3.00</td>\n",
       "      <td>8.20</td>\n",
       "      <td>0</td>\n",
       "      <td>0</td>\n",
       "      <td>0</td>\n",
       "      <td>0</td>\n",
       "      <td>0</td>\n",
       "      <td>0</td>\n",
       "      <td>0</td>\n",
       "      <td>...</td>\n",
       "      <td>0</td>\n",
       "      <td>0</td>\n",
       "      <td>0</td>\n",
       "      <td>1</td>\n",
       "      <td>0</td>\n",
       "      <td>0</td>\n",
       "      <td>0</td>\n",
       "      <td>0</td>\n",
       "      <td>0</td>\n",
       "      <td>0</td>\n",
       "    </tr>\n",
       "    <tr>\n",
       "      <th>1349</th>\n",
       "      <td>4.00</td>\n",
       "      <td>4.00</td>\n",
       "      <td>7.99</td>\n",
       "      <td>0</td>\n",
       "      <td>0</td>\n",
       "      <td>0</td>\n",
       "      <td>0</td>\n",
       "      <td>0</td>\n",
       "      <td>0</td>\n",
       "      <td>0</td>\n",
       "      <td>...</td>\n",
       "      <td>0</td>\n",
       "      <td>0</td>\n",
       "      <td>0</td>\n",
       "      <td>0</td>\n",
       "      <td>0</td>\n",
       "      <td>0</td>\n",
       "      <td>0</td>\n",
       "      <td>0</td>\n",
       "      <td>0</td>\n",
       "      <td>1</td>\n",
       "    </tr>\n",
       "    <tr>\n",
       "      <th>409</th>\n",
       "      <td>4.00</td>\n",
       "      <td>3.00</td>\n",
       "      <td>8.16</td>\n",
       "      <td>0</td>\n",
       "      <td>0</td>\n",
       "      <td>0</td>\n",
       "      <td>0</td>\n",
       "      <td>0</td>\n",
       "      <td>0</td>\n",
       "      <td>0</td>\n",
       "      <td>...</td>\n",
       "      <td>0</td>\n",
       "      <td>0</td>\n",
       "      <td>0</td>\n",
       "      <td>0</td>\n",
       "      <td>0</td>\n",
       "      <td>0</td>\n",
       "      <td>1</td>\n",
       "      <td>0</td>\n",
       "      <td>0</td>\n",
       "      <td>0</td>\n",
       "    </tr>\n",
       "    <tr>\n",
       "      <th>884</th>\n",
       "      <td>3.00</td>\n",
       "      <td>2.00</td>\n",
       "      <td>7.65</td>\n",
       "      <td>0</td>\n",
       "      <td>0</td>\n",
       "      <td>0</td>\n",
       "      <td>0</td>\n",
       "      <td>0</td>\n",
       "      <td>0</td>\n",
       "      <td>0</td>\n",
       "      <td>...</td>\n",
       "      <td>0</td>\n",
       "      <td>0</td>\n",
       "      <td>1</td>\n",
       "      <td>0</td>\n",
       "      <td>0</td>\n",
       "      <td>0</td>\n",
       "      <td>0</td>\n",
       "      <td>0</td>\n",
       "      <td>0</td>\n",
       "      <td>0</td>\n",
       "    </tr>\n",
       "    <tr>\n",
       "      <th>864</th>\n",
       "      <td>3.00</td>\n",
       "      <td>2.00</td>\n",
       "      <td>7.08</td>\n",
       "      <td>0</td>\n",
       "      <td>0</td>\n",
       "      <td>0</td>\n",
       "      <td>0</td>\n",
       "      <td>0</td>\n",
       "      <td>0</td>\n",
       "      <td>0</td>\n",
       "      <td>...</td>\n",
       "      <td>0</td>\n",
       "      <td>0</td>\n",
       "      <td>0</td>\n",
       "      <td>0</td>\n",
       "      <td>0</td>\n",
       "      <td>0</td>\n",
       "      <td>1</td>\n",
       "      <td>0</td>\n",
       "      <td>0</td>\n",
       "      <td>0</td>\n",
       "    </tr>\n",
       "    <tr>\n",
       "      <th>776</th>\n",
       "      <td>4.00</td>\n",
       "      <td>3.00</td>\n",
       "      <td>7.63</td>\n",
       "      <td>0</td>\n",
       "      <td>0</td>\n",
       "      <td>0</td>\n",
       "      <td>0</td>\n",
       "      <td>0</td>\n",
       "      <td>0</td>\n",
       "      <td>1</td>\n",
       "      <td>...</td>\n",
       "      <td>0</td>\n",
       "      <td>1</td>\n",
       "      <td>0</td>\n",
       "      <td>0</td>\n",
       "      <td>0</td>\n",
       "      <td>0</td>\n",
       "      <td>0</td>\n",
       "      <td>0</td>\n",
       "      <td>0</td>\n",
       "      <td>0</td>\n",
       "    </tr>\n",
       "    <tr>\n",
       "      <th>1361</th>\n",
       "      <td>4.00</td>\n",
       "      <td>4.00</td>\n",
       "      <td>7.84</td>\n",
       "      <td>0</td>\n",
       "      <td>0</td>\n",
       "      <td>0</td>\n",
       "      <td>0</td>\n",
       "      <td>0</td>\n",
       "      <td>0</td>\n",
       "      <td>0</td>\n",
       "      <td>...</td>\n",
       "      <td>0</td>\n",
       "      <td>0</td>\n",
       "      <td>0</td>\n",
       "      <td>0</td>\n",
       "      <td>0</td>\n",
       "      <td>0</td>\n",
       "      <td>0</td>\n",
       "      <td>0</td>\n",
       "      <td>1</td>\n",
       "      <td>0</td>\n",
       "    </tr>\n",
       "    <tr>\n",
       "      <th>1474</th>\n",
       "      <td>4.00</td>\n",
       "      <td>4.00</td>\n",
       "      <td>8.38</td>\n",
       "      <td>0</td>\n",
       "      <td>0</td>\n",
       "      <td>0</td>\n",
       "      <td>0</td>\n",
       "      <td>0</td>\n",
       "      <td>0</td>\n",
       "      <td>0</td>\n",
       "      <td>...</td>\n",
       "      <td>0</td>\n",
       "      <td>0</td>\n",
       "      <td>0</td>\n",
       "      <td>0</td>\n",
       "      <td>0</td>\n",
       "      <td>0</td>\n",
       "      <td>0</td>\n",
       "      <td>0</td>\n",
       "      <td>0</td>\n",
       "      <td>1</td>\n",
       "    </tr>\n",
       "    <tr>\n",
       "      <th>700</th>\n",
       "      <td>4.00</td>\n",
       "      <td>5.00</td>\n",
       "      <td>8.43</td>\n",
       "      <td>0</td>\n",
       "      <td>0</td>\n",
       "      <td>0</td>\n",
       "      <td>0</td>\n",
       "      <td>0</td>\n",
       "      <td>0</td>\n",
       "      <td>1</td>\n",
       "      <td>...</td>\n",
       "      <td>0</td>\n",
       "      <td>0</td>\n",
       "      <td>0</td>\n",
       "      <td>0</td>\n",
       "      <td>1</td>\n",
       "      <td>0</td>\n",
       "      <td>0</td>\n",
       "      <td>0</td>\n",
       "      <td>0</td>\n",
       "      <td>0</td>\n",
       "    </tr>\n",
       "    <tr>\n",
       "      <th>870</th>\n",
       "      <td>3.00</td>\n",
       "      <td>2.00</td>\n",
       "      <td>7.42</td>\n",
       "      <td>0</td>\n",
       "      <td>0</td>\n",
       "      <td>1</td>\n",
       "      <td>0</td>\n",
       "      <td>0</td>\n",
       "      <td>0</td>\n",
       "      <td>0</td>\n",
       "      <td>...</td>\n",
       "      <td>0</td>\n",
       "      <td>0</td>\n",
       "      <td>0</td>\n",
       "      <td>0</td>\n",
       "      <td>0</td>\n",
       "      <td>0</td>\n",
       "      <td>0</td>\n",
       "      <td>0</td>\n",
       "      <td>0</td>\n",
       "      <td>0</td>\n",
       "    </tr>\n",
       "    <tr>\n",
       "      <th>1055</th>\n",
       "      <td>3.00</td>\n",
       "      <td>2.00</td>\n",
       "      <td>7.19</td>\n",
       "      <td>0</td>\n",
       "      <td>0</td>\n",
       "      <td>1</td>\n",
       "      <td>0</td>\n",
       "      <td>0</td>\n",
       "      <td>0</td>\n",
       "      <td>0</td>\n",
       "      <td>...</td>\n",
       "      <td>0</td>\n",
       "      <td>1</td>\n",
       "      <td>0</td>\n",
       "      <td>0</td>\n",
       "      <td>0</td>\n",
       "      <td>0</td>\n",
       "      <td>0</td>\n",
       "      <td>0</td>\n",
       "      <td>0</td>\n",
       "      <td>0</td>\n",
       "    </tr>\n",
       "    <tr>\n",
       "      <th>539</th>\n",
       "      <td>3.00</td>\n",
       "      <td>3.00</td>\n",
       "      <td>7.94</td>\n",
       "      <td>0</td>\n",
       "      <td>0</td>\n",
       "      <td>0</td>\n",
       "      <td>0</td>\n",
       "      <td>0</td>\n",
       "      <td>0</td>\n",
       "      <td>0</td>\n",
       "      <td>...</td>\n",
       "      <td>0</td>\n",
       "      <td>0</td>\n",
       "      <td>0</td>\n",
       "      <td>1</td>\n",
       "      <td>0</td>\n",
       "      <td>0</td>\n",
       "      <td>0</td>\n",
       "      <td>0</td>\n",
       "      <td>0</td>\n",
       "      <td>0</td>\n",
       "    </tr>\n",
       "    <tr>\n",
       "      <th>446</th>\n",
       "      <td>5.00</td>\n",
       "      <td>4.00</td>\n",
       "      <td>8.19</td>\n",
       "      <td>0</td>\n",
       "      <td>0</td>\n",
       "      <td>1</td>\n",
       "      <td>0</td>\n",
       "      <td>0</td>\n",
       "      <td>0</td>\n",
       "      <td>0</td>\n",
       "      <td>...</td>\n",
       "      <td>0</td>\n",
       "      <td>0</td>\n",
       "      <td>0</td>\n",
       "      <td>0</td>\n",
       "      <td>0</td>\n",
       "      <td>0</td>\n",
       "      <td>1</td>\n",
       "      <td>0</td>\n",
       "      <td>0</td>\n",
       "      <td>0</td>\n",
       "    </tr>\n",
       "    <tr>\n",
       "      <th>828</th>\n",
       "      <td>4.00</td>\n",
       "      <td>4.00</td>\n",
       "      <td>8.23</td>\n",
       "      <td>0</td>\n",
       "      <td>0</td>\n",
       "      <td>0</td>\n",
       "      <td>0</td>\n",
       "      <td>0</td>\n",
       "      <td>0</td>\n",
       "      <td>0</td>\n",
       "      <td>...</td>\n",
       "      <td>1</td>\n",
       "      <td>0</td>\n",
       "      <td>0</td>\n",
       "      <td>0</td>\n",
       "      <td>0</td>\n",
       "      <td>0</td>\n",
       "      <td>0</td>\n",
       "      <td>0</td>\n",
       "      <td>0</td>\n",
       "      <td>0</td>\n",
       "    </tr>\n",
       "    <tr>\n",
       "      <th>1360</th>\n",
       "      <td>4.00</td>\n",
       "      <td>4.00</td>\n",
       "      <td>8.26</td>\n",
       "      <td>0</td>\n",
       "      <td>0</td>\n",
       "      <td>0</td>\n",
       "      <td>0</td>\n",
       "      <td>0</td>\n",
       "      <td>0</td>\n",
       "      <td>0</td>\n",
       "      <td>...</td>\n",
       "      <td>0</td>\n",
       "      <td>0</td>\n",
       "      <td>0</td>\n",
       "      <td>0</td>\n",
       "      <td>0</td>\n",
       "      <td>0</td>\n",
       "      <td>0</td>\n",
       "      <td>0</td>\n",
       "      <td>0</td>\n",
       "      <td>0</td>\n",
       "    </tr>\n",
       "    <tr>\n",
       "      <th>307</th>\n",
       "      <td>4.00</td>\n",
       "      <td>9.00</td>\n",
       "      <td>8.66</td>\n",
       "      <td>0</td>\n",
       "      <td>0</td>\n",
       "      <td>0</td>\n",
       "      <td>0</td>\n",
       "      <td>0</td>\n",
       "      <td>0</td>\n",
       "      <td>0</td>\n",
       "      <td>...</td>\n",
       "      <td>0</td>\n",
       "      <td>0</td>\n",
       "      <td>0</td>\n",
       "      <td>0</td>\n",
       "      <td>0</td>\n",
       "      <td>0</td>\n",
       "      <td>0</td>\n",
       "      <td>0</td>\n",
       "      <td>0</td>\n",
       "      <td>1</td>\n",
       "    </tr>\n",
       "    <tr>\n",
       "      <th>247</th>\n",
       "      <td>4.00</td>\n",
       "      <td>4.00</td>\n",
       "      <td>8.46</td>\n",
       "      <td>0</td>\n",
       "      <td>0</td>\n",
       "      <td>0</td>\n",
       "      <td>0</td>\n",
       "      <td>0</td>\n",
       "      <td>0</td>\n",
       "      <td>0</td>\n",
       "      <td>...</td>\n",
       "      <td>0</td>\n",
       "      <td>0</td>\n",
       "      <td>0</td>\n",
       "      <td>0</td>\n",
       "      <td>0</td>\n",
       "      <td>1</td>\n",
       "      <td>0</td>\n",
       "      <td>0</td>\n",
       "      <td>0</td>\n",
       "      <td>0</td>\n",
       "    </tr>\n",
       "    <tr>\n",
       "      <th>...</th>\n",
       "      <td>...</td>\n",
       "      <td>...</td>\n",
       "      <td>...</td>\n",
       "      <td>...</td>\n",
       "      <td>...</td>\n",
       "      <td>...</td>\n",
       "      <td>...</td>\n",
       "      <td>...</td>\n",
       "      <td>...</td>\n",
       "      <td>...</td>\n",
       "      <td>...</td>\n",
       "      <td>...</td>\n",
       "      <td>...</td>\n",
       "      <td>...</td>\n",
       "      <td>...</td>\n",
       "      <td>...</td>\n",
       "      <td>...</td>\n",
       "      <td>...</td>\n",
       "      <td>...</td>\n",
       "      <td>...</td>\n",
       "      <td>...</td>\n",
       "    </tr>\n",
       "    <tr>\n",
       "      <th>503</th>\n",
       "      <td>5.00</td>\n",
       "      <td>7.00</td>\n",
       "      <td>8.63</td>\n",
       "      <td>0</td>\n",
       "      <td>0</td>\n",
       "      <td>0</td>\n",
       "      <td>0</td>\n",
       "      <td>0</td>\n",
       "      <td>0</td>\n",
       "      <td>0</td>\n",
       "      <td>...</td>\n",
       "      <td>0</td>\n",
       "      <td>0</td>\n",
       "      <td>0</td>\n",
       "      <td>0</td>\n",
       "      <td>0</td>\n",
       "      <td>0</td>\n",
       "      <td>1</td>\n",
       "      <td>0</td>\n",
       "      <td>0</td>\n",
       "      <td>0</td>\n",
       "    </tr>\n",
       "    <tr>\n",
       "      <th>254</th>\n",
       "      <td>4.00</td>\n",
       "      <td>4.00</td>\n",
       "      <td>8.08</td>\n",
       "      <td>0</td>\n",
       "      <td>0</td>\n",
       "      <td>0</td>\n",
       "      <td>0</td>\n",
       "      <td>0</td>\n",
       "      <td>0</td>\n",
       "      <td>0</td>\n",
       "      <td>...</td>\n",
       "      <td>0</td>\n",
       "      <td>0</td>\n",
       "      <td>0</td>\n",
       "      <td>0</td>\n",
       "      <td>0</td>\n",
       "      <td>0</td>\n",
       "      <td>0</td>\n",
       "      <td>0</td>\n",
       "      <td>0</td>\n",
       "      <td>1</td>\n",
       "    </tr>\n",
       "    <tr>\n",
       "      <th>784</th>\n",
       "      <td>3.00</td>\n",
       "      <td>2.00</td>\n",
       "      <td>7.19</td>\n",
       "      <td>0</td>\n",
       "      <td>0</td>\n",
       "      <td>1</td>\n",
       "      <td>0</td>\n",
       "      <td>0</td>\n",
       "      <td>0</td>\n",
       "      <td>0</td>\n",
       "      <td>...</td>\n",
       "      <td>1</td>\n",
       "      <td>0</td>\n",
       "      <td>0</td>\n",
       "      <td>0</td>\n",
       "      <td>0</td>\n",
       "      <td>0</td>\n",
       "      <td>0</td>\n",
       "      <td>0</td>\n",
       "      <td>0</td>\n",
       "      <td>0</td>\n",
       "    </tr>\n",
       "    <tr>\n",
       "      <th>721</th>\n",
       "      <td>4.00</td>\n",
       "      <td>2.00</td>\n",
       "      <td>7.20</td>\n",
       "      <td>0</td>\n",
       "      <td>0</td>\n",
       "      <td>0</td>\n",
       "      <td>0</td>\n",
       "      <td>0</td>\n",
       "      <td>1</td>\n",
       "      <td>0</td>\n",
       "      <td>...</td>\n",
       "      <td>0</td>\n",
       "      <td>0</td>\n",
       "      <td>1</td>\n",
       "      <td>0</td>\n",
       "      <td>0</td>\n",
       "      <td>0</td>\n",
       "      <td>0</td>\n",
       "      <td>0</td>\n",
       "      <td>0</td>\n",
       "      <td>0</td>\n",
       "    </tr>\n",
       "    <tr>\n",
       "      <th>1251</th>\n",
       "      <td>4.00</td>\n",
       "      <td>3.00</td>\n",
       "      <td>7.92</td>\n",
       "      <td>0</td>\n",
       "      <td>0</td>\n",
       "      <td>0</td>\n",
       "      <td>0</td>\n",
       "      <td>0</td>\n",
       "      <td>0</td>\n",
       "      <td>0</td>\n",
       "      <td>...</td>\n",
       "      <td>0</td>\n",
       "      <td>0</td>\n",
       "      <td>0</td>\n",
       "      <td>0</td>\n",
       "      <td>0</td>\n",
       "      <td>0</td>\n",
       "      <td>0</td>\n",
       "      <td>1</td>\n",
       "      <td>0</td>\n",
       "      <td>0</td>\n",
       "    </tr>\n",
       "    <tr>\n",
       "      <th>342</th>\n",
       "      <td>4.00</td>\n",
       "      <td>3.00</td>\n",
       "      <td>7.68</td>\n",
       "      <td>0</td>\n",
       "      <td>0</td>\n",
       "      <td>0</td>\n",
       "      <td>0</td>\n",
       "      <td>0</td>\n",
       "      <td>0</td>\n",
       "      <td>0</td>\n",
       "      <td>...</td>\n",
       "      <td>0</td>\n",
       "      <td>0</td>\n",
       "      <td>0</td>\n",
       "      <td>0</td>\n",
       "      <td>0</td>\n",
       "      <td>1</td>\n",
       "      <td>0</td>\n",
       "      <td>0</td>\n",
       "      <td>0</td>\n",
       "      <td>0</td>\n",
       "    </tr>\n",
       "    <tr>\n",
       "      <th>217</th>\n",
       "      <td>4.00</td>\n",
       "      <td>3.00</td>\n",
       "      <td>7.95</td>\n",
       "      <td>0</td>\n",
       "      <td>0</td>\n",
       "      <td>0</td>\n",
       "      <td>0</td>\n",
       "      <td>0</td>\n",
       "      <td>0</td>\n",
       "      <td>0</td>\n",
       "      <td>...</td>\n",
       "      <td>0</td>\n",
       "      <td>0</td>\n",
       "      <td>0</td>\n",
       "      <td>0</td>\n",
       "      <td>0</td>\n",
       "      <td>0</td>\n",
       "      <td>0</td>\n",
       "      <td>0</td>\n",
       "      <td>0</td>\n",
       "      <td>1</td>\n",
       "    </tr>\n",
       "    <tr>\n",
       "      <th>1393</th>\n",
       "      <td>4.00</td>\n",
       "      <td>3.00</td>\n",
       "      <td>8.12</td>\n",
       "      <td>0</td>\n",
       "      <td>0</td>\n",
       "      <td>0</td>\n",
       "      <td>0</td>\n",
       "      <td>0</td>\n",
       "      <td>0</td>\n",
       "      <td>0</td>\n",
       "      <td>...</td>\n",
       "      <td>0</td>\n",
       "      <td>0</td>\n",
       "      <td>0</td>\n",
       "      <td>0</td>\n",
       "      <td>0</td>\n",
       "      <td>0</td>\n",
       "      <td>0</td>\n",
       "      <td>0</td>\n",
       "      <td>0</td>\n",
       "      <td>0</td>\n",
       "    </tr>\n",
       "    <tr>\n",
       "      <th>904</th>\n",
       "      <td>3.00</td>\n",
       "      <td>2.00</td>\n",
       "      <td>7.36</td>\n",
       "      <td>0</td>\n",
       "      <td>0</td>\n",
       "      <td>0</td>\n",
       "      <td>0</td>\n",
       "      <td>0</td>\n",
       "      <td>0</td>\n",
       "      <td>0</td>\n",
       "      <td>...</td>\n",
       "      <td>1</td>\n",
       "      <td>0</td>\n",
       "      <td>0</td>\n",
       "      <td>0</td>\n",
       "      <td>0</td>\n",
       "      <td>0</td>\n",
       "      <td>0</td>\n",
       "      <td>0</td>\n",
       "      <td>0</td>\n",
       "      <td>0</td>\n",
       "    </tr>\n",
       "    <tr>\n",
       "      <th>911</th>\n",
       "      <td>4.00</td>\n",
       "      <td>4.00</td>\n",
       "      <td>7.73</td>\n",
       "      <td>0</td>\n",
       "      <td>0</td>\n",
       "      <td>0</td>\n",
       "      <td>0</td>\n",
       "      <td>0</td>\n",
       "      <td>0</td>\n",
       "      <td>0</td>\n",
       "      <td>...</td>\n",
       "      <td>0</td>\n",
       "      <td>1</td>\n",
       "      <td>0</td>\n",
       "      <td>0</td>\n",
       "      <td>0</td>\n",
       "      <td>0</td>\n",
       "      <td>0</td>\n",
       "      <td>0</td>\n",
       "      <td>0</td>\n",
       "      <td>0</td>\n",
       "    </tr>\n",
       "    <tr>\n",
       "      <th>1428</th>\n",
       "      <td>3.00</td>\n",
       "      <td>3.00</td>\n",
       "      <td>7.63</td>\n",
       "      <td>0</td>\n",
       "      <td>0</td>\n",
       "      <td>0</td>\n",
       "      <td>0</td>\n",
       "      <td>0</td>\n",
       "      <td>0</td>\n",
       "      <td>0</td>\n",
       "      <td>...</td>\n",
       "      <td>0</td>\n",
       "      <td>0</td>\n",
       "      <td>0</td>\n",
       "      <td>0</td>\n",
       "      <td>0</td>\n",
       "      <td>0</td>\n",
       "      <td>1</td>\n",
       "      <td>0</td>\n",
       "      <td>0</td>\n",
       "      <td>0</td>\n",
       "    </tr>\n",
       "    <tr>\n",
       "      <th>722</th>\n",
       "      <td>3.00</td>\n",
       "      <td>2.00</td>\n",
       "      <td>7.21</td>\n",
       "      <td>0</td>\n",
       "      <td>0</td>\n",
       "      <td>0</td>\n",
       "      <td>0</td>\n",
       "      <td>0</td>\n",
       "      <td>0</td>\n",
       "      <td>0</td>\n",
       "      <td>...</td>\n",
       "      <td>0</td>\n",
       "      <td>1</td>\n",
       "      <td>0</td>\n",
       "      <td>0</td>\n",
       "      <td>0</td>\n",
       "      <td>0</td>\n",
       "      <td>0</td>\n",
       "      <td>0</td>\n",
       "      <td>0</td>\n",
       "      <td>0</td>\n",
       "    </tr>\n",
       "    <tr>\n",
       "      <th>1245</th>\n",
       "      <td>4.00</td>\n",
       "      <td>3.00</td>\n",
       "      <td>7.95</td>\n",
       "      <td>0</td>\n",
       "      <td>0</td>\n",
       "      <td>0</td>\n",
       "      <td>0</td>\n",
       "      <td>0</td>\n",
       "      <td>0</td>\n",
       "      <td>0</td>\n",
       "      <td>...</td>\n",
       "      <td>0</td>\n",
       "      <td>0</td>\n",
       "      <td>0</td>\n",
       "      <td>0</td>\n",
       "      <td>0</td>\n",
       "      <td>0</td>\n",
       "      <td>0</td>\n",
       "      <td>0</td>\n",
       "      <td>1</td>\n",
       "      <td>0</td>\n",
       "    </tr>\n",
       "    <tr>\n",
       "      <th>1292</th>\n",
       "      <td>3.00</td>\n",
       "      <td>2.00</td>\n",
       "      <td>7.38</td>\n",
       "      <td>0</td>\n",
       "      <td>0</td>\n",
       "      <td>0</td>\n",
       "      <td>0</td>\n",
       "      <td>0</td>\n",
       "      <td>0</td>\n",
       "      <td>0</td>\n",
       "      <td>...</td>\n",
       "      <td>0</td>\n",
       "      <td>0</td>\n",
       "      <td>0</td>\n",
       "      <td>0</td>\n",
       "      <td>0</td>\n",
       "      <td>0</td>\n",
       "      <td>0</td>\n",
       "      <td>1</td>\n",
       "      <td>0</td>\n",
       "      <td>0</td>\n",
       "    </tr>\n",
       "    <tr>\n",
       "      <th>359</th>\n",
       "      <td>3.00</td>\n",
       "      <td>2.00</td>\n",
       "      <td>6.93</td>\n",
       "      <td>1</td>\n",
       "      <td>0</td>\n",
       "      <td>0</td>\n",
       "      <td>0</td>\n",
       "      <td>0</td>\n",
       "      <td>0</td>\n",
       "      <td>0</td>\n",
       "      <td>...</td>\n",
       "      <td>0</td>\n",
       "      <td>0</td>\n",
       "      <td>0</td>\n",
       "      <td>1</td>\n",
       "      <td>0</td>\n",
       "      <td>0</td>\n",
       "      <td>0</td>\n",
       "      <td>0</td>\n",
       "      <td>0</td>\n",
       "      <td>0</td>\n",
       "    </tr>\n",
       "    <tr>\n",
       "      <th>1310</th>\n",
       "      <td>3.00</td>\n",
       "      <td>2.00</td>\n",
       "      <td>7.28</td>\n",
       "      <td>0</td>\n",
       "      <td>0</td>\n",
       "      <td>0</td>\n",
       "      <td>0</td>\n",
       "      <td>0</td>\n",
       "      <td>0</td>\n",
       "      <td>0</td>\n",
       "      <td>...</td>\n",
       "      <td>0</td>\n",
       "      <td>1</td>\n",
       "      <td>0</td>\n",
       "      <td>0</td>\n",
       "      <td>0</td>\n",
       "      <td>0</td>\n",
       "      <td>0</td>\n",
       "      <td>0</td>\n",
       "      <td>0</td>\n",
       "      <td>0</td>\n",
       "    </tr>\n",
       "    <tr>\n",
       "      <th>674</th>\n",
       "      <td>4.00</td>\n",
       "      <td>2.00</td>\n",
       "      <td>7.38</td>\n",
       "      <td>0</td>\n",
       "      <td>0</td>\n",
       "      <td>0</td>\n",
       "      <td>0</td>\n",
       "      <td>0</td>\n",
       "      <td>1</td>\n",
       "      <td>0</td>\n",
       "      <td>...</td>\n",
       "      <td>0</td>\n",
       "      <td>0</td>\n",
       "      <td>0</td>\n",
       "      <td>0</td>\n",
       "      <td>0</td>\n",
       "      <td>0</td>\n",
       "      <td>0</td>\n",
       "      <td>0</td>\n",
       "      <td>0</td>\n",
       "      <td>1</td>\n",
       "    </tr>\n",
       "    <tr>\n",
       "      <th>643</th>\n",
       "      <td>4.00</td>\n",
       "      <td>3.00</td>\n",
       "      <td>7.72</td>\n",
       "      <td>0</td>\n",
       "      <td>0</td>\n",
       "      <td>0</td>\n",
       "      <td>0</td>\n",
       "      <td>0</td>\n",
       "      <td>0</td>\n",
       "      <td>0</td>\n",
       "      <td>...</td>\n",
       "      <td>0</td>\n",
       "      <td>0</td>\n",
       "      <td>0</td>\n",
       "      <td>0</td>\n",
       "      <td>0</td>\n",
       "      <td>0</td>\n",
       "      <td>0</td>\n",
       "      <td>1</td>\n",
       "      <td>0</td>\n",
       "      <td>0</td>\n",
       "    </tr>\n",
       "    <tr>\n",
       "      <th>404</th>\n",
       "      <td>3.00</td>\n",
       "      <td>2.00</td>\n",
       "      <td>7.23</td>\n",
       "      <td>0</td>\n",
       "      <td>0</td>\n",
       "      <td>0</td>\n",
       "      <td>0</td>\n",
       "      <td>0</td>\n",
       "      <td>0</td>\n",
       "      <td>0</td>\n",
       "      <td>...</td>\n",
       "      <td>0</td>\n",
       "      <td>1</td>\n",
       "      <td>0</td>\n",
       "      <td>0</td>\n",
       "      <td>0</td>\n",
       "      <td>0</td>\n",
       "      <td>0</td>\n",
       "      <td>0</td>\n",
       "      <td>0</td>\n",
       "      <td>0</td>\n",
       "    </tr>\n",
       "    <tr>\n",
       "      <th>619</th>\n",
       "      <td>4.00</td>\n",
       "      <td>3.00</td>\n",
       "      <td>8.27</td>\n",
       "      <td>0</td>\n",
       "      <td>0</td>\n",
       "      <td>0</td>\n",
       "      <td>0</td>\n",
       "      <td>0</td>\n",
       "      <td>0</td>\n",
       "      <td>0</td>\n",
       "      <td>...</td>\n",
       "      <td>0</td>\n",
       "      <td>0</td>\n",
       "      <td>0</td>\n",
       "      <td>0</td>\n",
       "      <td>0</td>\n",
       "      <td>0</td>\n",
       "      <td>0</td>\n",
       "      <td>1</td>\n",
       "      <td>0</td>\n",
       "      <td>0</td>\n",
       "    </tr>\n",
       "    <tr>\n",
       "      <th>1241</th>\n",
       "      <td>6.00</td>\n",
       "      <td>8.00</td>\n",
       "      <td>8.91</td>\n",
       "      <td>0</td>\n",
       "      <td>0</td>\n",
       "      <td>0</td>\n",
       "      <td>0</td>\n",
       "      <td>0</td>\n",
       "      <td>0</td>\n",
       "      <td>0</td>\n",
       "      <td>...</td>\n",
       "      <td>0</td>\n",
       "      <td>0</td>\n",
       "      <td>0</td>\n",
       "      <td>0</td>\n",
       "      <td>0</td>\n",
       "      <td>1</td>\n",
       "      <td>0</td>\n",
       "      <td>0</td>\n",
       "      <td>0</td>\n",
       "      <td>0</td>\n",
       "    </tr>\n",
       "    <tr>\n",
       "      <th>328</th>\n",
       "      <td>3.00</td>\n",
       "      <td>3.00</td>\n",
       "      <td>7.89</td>\n",
       "      <td>0</td>\n",
       "      <td>0</td>\n",
       "      <td>0</td>\n",
       "      <td>0</td>\n",
       "      <td>1</td>\n",
       "      <td>0</td>\n",
       "      <td>0</td>\n",
       "      <td>...</td>\n",
       "      <td>0</td>\n",
       "      <td>1</td>\n",
       "      <td>0</td>\n",
       "      <td>0</td>\n",
       "      <td>0</td>\n",
       "      <td>0</td>\n",
       "      <td>0</td>\n",
       "      <td>0</td>\n",
       "      <td>0</td>\n",
       "      <td>0</td>\n",
       "    </tr>\n",
       "    <tr>\n",
       "      <th>1398</th>\n",
       "      <td>3.00</td>\n",
       "      <td>4.00</td>\n",
       "      <td>8.10</td>\n",
       "      <td>0</td>\n",
       "      <td>0</td>\n",
       "      <td>0</td>\n",
       "      <td>0</td>\n",
       "      <td>0</td>\n",
       "      <td>0</td>\n",
       "      <td>0</td>\n",
       "      <td>...</td>\n",
       "      <td>0</td>\n",
       "      <td>1</td>\n",
       "      <td>0</td>\n",
       "      <td>0</td>\n",
       "      <td>0</td>\n",
       "      <td>0</td>\n",
       "      <td>0</td>\n",
       "      <td>0</td>\n",
       "      <td>0</td>\n",
       "      <td>0</td>\n",
       "    </tr>\n",
       "    <tr>\n",
       "      <th>1260</th>\n",
       "      <td>3.00</td>\n",
       "      <td>2.00</td>\n",
       "      <td>7.40</td>\n",
       "      <td>0</td>\n",
       "      <td>0</td>\n",
       "      <td>0</td>\n",
       "      <td>0</td>\n",
       "      <td>0</td>\n",
       "      <td>0</td>\n",
       "      <td>0</td>\n",
       "      <td>...</td>\n",
       "      <td>1</td>\n",
       "      <td>0</td>\n",
       "      <td>0</td>\n",
       "      <td>0</td>\n",
       "      <td>0</td>\n",
       "      <td>0</td>\n",
       "      <td>0</td>\n",
       "      <td>0</td>\n",
       "      <td>0</td>\n",
       "      <td>0</td>\n",
       "    </tr>\n",
       "    <tr>\n",
       "      <th>704</th>\n",
       "      <td>5.00</td>\n",
       "      <td>4.00</td>\n",
       "      <td>8.22</td>\n",
       "      <td>0</td>\n",
       "      <td>0</td>\n",
       "      <td>0</td>\n",
       "      <td>0</td>\n",
       "      <td>0</td>\n",
       "      <td>0</td>\n",
       "      <td>1</td>\n",
       "      <td>...</td>\n",
       "      <td>1</td>\n",
       "      <td>0</td>\n",
       "      <td>0</td>\n",
       "      <td>0</td>\n",
       "      <td>0</td>\n",
       "      <td>0</td>\n",
       "      <td>0</td>\n",
       "      <td>0</td>\n",
       "      <td>0</td>\n",
       "      <td>0</td>\n",
       "    </tr>\n",
       "    <tr>\n",
       "      <th>689</th>\n",
       "      <td>3.00</td>\n",
       "      <td>1.00</td>\n",
       "      <td>7.12</td>\n",
       "      <td>0</td>\n",
       "      <td>0</td>\n",
       "      <td>0</td>\n",
       "      <td>0</td>\n",
       "      <td>0</td>\n",
       "      <td>0</td>\n",
       "      <td>0</td>\n",
       "      <td>...</td>\n",
       "      <td>0</td>\n",
       "      <td>0</td>\n",
       "      <td>0</td>\n",
       "      <td>0</td>\n",
       "      <td>0</td>\n",
       "      <td>0</td>\n",
       "      <td>0</td>\n",
       "      <td>0</td>\n",
       "      <td>1</td>\n",
       "      <td>0</td>\n",
       "    </tr>\n",
       "    <tr>\n",
       "      <th>727</th>\n",
       "      <td>4.00</td>\n",
       "      <td>3.00</td>\n",
       "      <td>8.31</td>\n",
       "      <td>0</td>\n",
       "      <td>0</td>\n",
       "      <td>0</td>\n",
       "      <td>0</td>\n",
       "      <td>0</td>\n",
       "      <td>0</td>\n",
       "      <td>0</td>\n",
       "      <td>...</td>\n",
       "      <td>0</td>\n",
       "      <td>1</td>\n",
       "      <td>0</td>\n",
       "      <td>0</td>\n",
       "      <td>0</td>\n",
       "      <td>0</td>\n",
       "      <td>0</td>\n",
       "      <td>0</td>\n",
       "      <td>0</td>\n",
       "      <td>0</td>\n",
       "    </tr>\n",
       "    <tr>\n",
       "      <th>1434</th>\n",
       "      <td>4.00</td>\n",
       "      <td>2.00</td>\n",
       "      <td>7.78</td>\n",
       "      <td>0</td>\n",
       "      <td>0</td>\n",
       "      <td>0</td>\n",
       "      <td>0</td>\n",
       "      <td>0</td>\n",
       "      <td>0</td>\n",
       "      <td>0</td>\n",
       "      <td>...</td>\n",
       "      <td>0</td>\n",
       "      <td>0</td>\n",
       "      <td>0</td>\n",
       "      <td>0</td>\n",
       "      <td>0</td>\n",
       "      <td>0</td>\n",
       "      <td>0</td>\n",
       "      <td>0</td>\n",
       "      <td>1</td>\n",
       "      <td>0</td>\n",
       "    </tr>\n",
       "    <tr>\n",
       "      <th>746</th>\n",
       "      <td>2.00</td>\n",
       "      <td>1.00</td>\n",
       "      <td>6.74</td>\n",
       "      <td>0</td>\n",
       "      <td>0</td>\n",
       "      <td>0</td>\n",
       "      <td>0</td>\n",
       "      <td>0</td>\n",
       "      <td>0</td>\n",
       "      <td>0</td>\n",
       "      <td>...</td>\n",
       "      <td>0</td>\n",
       "      <td>1</td>\n",
       "      <td>0</td>\n",
       "      <td>0</td>\n",
       "      <td>0</td>\n",
       "      <td>0</td>\n",
       "      <td>0</td>\n",
       "      <td>0</td>\n",
       "      <td>0</td>\n",
       "      <td>0</td>\n",
       "    </tr>\n",
       "    <tr>\n",
       "      <th>991</th>\n",
       "      <td>3.00</td>\n",
       "      <td>1.00</td>\n",
       "      <td>7.16</td>\n",
       "      <td>0</td>\n",
       "      <td>0</td>\n",
       "      <td>0</td>\n",
       "      <td>0</td>\n",
       "      <td>0</td>\n",
       "      <td>0</td>\n",
       "      <td>0</td>\n",
       "      <td>...</td>\n",
       "      <td>0</td>\n",
       "      <td>0</td>\n",
       "      <td>1</td>\n",
       "      <td>0</td>\n",
       "      <td>0</td>\n",
       "      <td>0</td>\n",
       "      <td>0</td>\n",
       "      <td>0</td>\n",
       "      <td>0</td>\n",
       "      <td>0</td>\n",
       "    </tr>\n",
       "  </tbody>\n",
       "</table>\n",
       "<p>871 rows × 62 columns</p>\n",
       "</div>"
      ],
      "text/plain": [
       "      num_bedrooms  num_bathrooms  building_area_sq_ft  zip_code_28203  \\\n",
       "549           4.00           4.00                 8.02               0   \n",
       "1089          4.00           4.00                 8.24               0   \n",
       "442           3.00           3.00                 7.58               0   \n",
       "729           2.00           1.00                 6.64               0   \n",
       "1445          4.00           4.00                 8.21               0   \n",
       "432           3.00           2.00                 7.67               0   \n",
       "1209          3.00           3.00                 7.51               0   \n",
       "1140          5.00           7.00                 8.52               0   \n",
       "1520          4.00           4.00                 8.19               0   \n",
       "654           3.00           3.00                 7.21               0   \n",
       "138           3.00           3.00                 7.34               0   \n",
       "120           4.00           3.00                 8.04               0   \n",
       "649           5.00           3.00                 7.92               0   \n",
       "1008          4.00           3.00                 8.20               0   \n",
       "1349          4.00           4.00                 7.99               0   \n",
       "409           4.00           3.00                 8.16               0   \n",
       "884           3.00           2.00                 7.65               0   \n",
       "864           3.00           2.00                 7.08               0   \n",
       "776           4.00           3.00                 7.63               0   \n",
       "1361          4.00           4.00                 7.84               0   \n",
       "1474          4.00           4.00                 8.38               0   \n",
       "700           4.00           5.00                 8.43               0   \n",
       "870           3.00           2.00                 7.42               0   \n",
       "1055          3.00           2.00                 7.19               0   \n",
       "539           3.00           3.00                 7.94               0   \n",
       "446           5.00           4.00                 8.19               0   \n",
       "828           4.00           4.00                 8.23               0   \n",
       "1360          4.00           4.00                 8.26               0   \n",
       "307           4.00           9.00                 8.66               0   \n",
       "247           4.00           4.00                 8.46               0   \n",
       "...            ...            ...                  ...             ...   \n",
       "503           5.00           7.00                 8.63               0   \n",
       "254           4.00           4.00                 8.08               0   \n",
       "784           3.00           2.00                 7.19               0   \n",
       "721           4.00           2.00                 7.20               0   \n",
       "1251          4.00           3.00                 7.92               0   \n",
       "342           4.00           3.00                 7.68               0   \n",
       "217           4.00           3.00                 7.95               0   \n",
       "1393          4.00           3.00                 8.12               0   \n",
       "904           3.00           2.00                 7.36               0   \n",
       "911           4.00           4.00                 7.73               0   \n",
       "1428          3.00           3.00                 7.63               0   \n",
       "722           3.00           2.00                 7.21               0   \n",
       "1245          4.00           3.00                 7.95               0   \n",
       "1292          3.00           2.00                 7.38               0   \n",
       "359           3.00           2.00                 6.93               1   \n",
       "1310          3.00           2.00                 7.28               0   \n",
       "674           4.00           2.00                 7.38               0   \n",
       "643           4.00           3.00                 7.72               0   \n",
       "404           3.00           2.00                 7.23               0   \n",
       "619           4.00           3.00                 8.27               0   \n",
       "1241          6.00           8.00                 8.91               0   \n",
       "328           3.00           3.00                 7.89               0   \n",
       "1398          3.00           4.00                 8.10               0   \n",
       "1260          3.00           2.00                 7.40               0   \n",
       "704           5.00           4.00                 8.22               0   \n",
       "689           3.00           1.00                 7.12               0   \n",
       "727           4.00           3.00                 8.31               0   \n",
       "1434          4.00           2.00                 7.78               0   \n",
       "746           2.00           1.00                 6.74               0   \n",
       "991           3.00           1.00                 7.16               0   \n",
       "\n",
       "      zip_code_28204  zip_code_28205  zip_code_28206  zip_code_28207  \\\n",
       "549                0               0               0               0   \n",
       "1089               0               0               0               0   \n",
       "442                0               1               0               0   \n",
       "729                0               0               0               0   \n",
       "1445               0               0               0               0   \n",
       "432                0               0               0               0   \n",
       "1209               0               0               0               0   \n",
       "1140               0               0               0               0   \n",
       "1520               0               0               0               0   \n",
       "654                0               0               0               0   \n",
       "138                0               0               0               0   \n",
       "120                0               0               0               0   \n",
       "649                0               0               0               0   \n",
       "1008               0               0               0               0   \n",
       "1349               0               0               0               0   \n",
       "409                0               0               0               0   \n",
       "884                0               0               0               0   \n",
       "864                0               0               0               0   \n",
       "776                0               0               0               0   \n",
       "1361               0               0               0               0   \n",
       "1474               0               0               0               0   \n",
       "700                0               0               0               0   \n",
       "870                0               1               0               0   \n",
       "1055               0               1               0               0   \n",
       "539                0               0               0               0   \n",
       "446                0               1               0               0   \n",
       "828                0               0               0               0   \n",
       "1360               0               0               0               0   \n",
       "307                0               0               0               0   \n",
       "247                0               0               0               0   \n",
       "...              ...             ...             ...             ...   \n",
       "503                0               0               0               0   \n",
       "254                0               0               0               0   \n",
       "784                0               1               0               0   \n",
       "721                0               0               0               0   \n",
       "1251               0               0               0               0   \n",
       "342                0               0               0               0   \n",
       "217                0               0               0               0   \n",
       "1393               0               0               0               0   \n",
       "904                0               0               0               0   \n",
       "911                0               0               0               0   \n",
       "1428               0               0               0               0   \n",
       "722                0               0               0               0   \n",
       "1245               0               0               0               0   \n",
       "1292               0               0               0               0   \n",
       "359                0               0               0               0   \n",
       "1310               0               0               0               0   \n",
       "674                0               0               0               0   \n",
       "643                0               0               0               0   \n",
       "404                0               0               0               0   \n",
       "619                0               0               0               0   \n",
       "1241               0               0               0               0   \n",
       "328                0               0               0               1   \n",
       "1398               0               0               0               0   \n",
       "1260               0               0               0               0   \n",
       "704                0               0               0               0   \n",
       "689                0               0               0               0   \n",
       "727                0               0               0               0   \n",
       "1434               0               0               0               0   \n",
       "746                0               0               0               0   \n",
       "991                0               0               0               0   \n",
       "\n",
       "      zip_code_28208  zip_code_28209      ...       month_sold_11  \\\n",
       "549                0               0      ...                   0   \n",
       "1089               0               0      ...                   0   \n",
       "442                0               0      ...                   0   \n",
       "729                1               0      ...                   0   \n",
       "1445               0               0      ...                   0   \n",
       "432                0               0      ...                   0   \n",
       "1209               0               0      ...                   0   \n",
       "1140               0               0      ...                   1   \n",
       "1520               0               0      ...                   0   \n",
       "654                0               0      ...                   0   \n",
       "138                0               0      ...                   0   \n",
       "120                0               0      ...                   0   \n",
       "649                0               0      ...                   0   \n",
       "1008               0               0      ...                   0   \n",
       "1349               0               0      ...                   0   \n",
       "409                0               0      ...                   0   \n",
       "884                0               0      ...                   0   \n",
       "864                0               0      ...                   0   \n",
       "776                0               1      ...                   0   \n",
       "1361               0               0      ...                   0   \n",
       "1474               0               0      ...                   0   \n",
       "700                0               1      ...                   0   \n",
       "870                0               0      ...                   0   \n",
       "1055               0               0      ...                   0   \n",
       "539                0               0      ...                   0   \n",
       "446                0               0      ...                   0   \n",
       "828                0               0      ...                   1   \n",
       "1360               0               0      ...                   0   \n",
       "307                0               0      ...                   0   \n",
       "247                0               0      ...                   0   \n",
       "...              ...             ...      ...                 ...   \n",
       "503                0               0      ...                   0   \n",
       "254                0               0      ...                   0   \n",
       "784                0               0      ...                   1   \n",
       "721                1               0      ...                   0   \n",
       "1251               0               0      ...                   0   \n",
       "342                0               0      ...                   0   \n",
       "217                0               0      ...                   0   \n",
       "1393               0               0      ...                   0   \n",
       "904                0               0      ...                   1   \n",
       "911                0               0      ...                   0   \n",
       "1428               0               0      ...                   0   \n",
       "722                0               0      ...                   0   \n",
       "1245               0               0      ...                   0   \n",
       "1292               0               0      ...                   0   \n",
       "359                0               0      ...                   0   \n",
       "1310               0               0      ...                   0   \n",
       "674                1               0      ...                   0   \n",
       "643                0               0      ...                   0   \n",
       "404                0               0      ...                   0   \n",
       "619                0               0      ...                   0   \n",
       "1241               0               0      ...                   0   \n",
       "328                0               0      ...                   0   \n",
       "1398               0               0      ...                   0   \n",
       "1260               0               0      ...                   1   \n",
       "704                0               1      ...                   1   \n",
       "689                0               0      ...                   0   \n",
       "727                0               0      ...                   0   \n",
       "1434               0               0      ...                   0   \n",
       "746                0               0      ...                   0   \n",
       "991                0               0      ...                   0   \n",
       "\n",
       "      month_sold_12  month_sold_2  month_sold_3  month_sold_4  month_sold_5  \\\n",
       "549               0             0             0             0             0   \n",
       "1089              0             1             0             0             0   \n",
       "442               0             0             0             0             0   \n",
       "729               0             0             0             0             0   \n",
       "1445              1             0             0             0             0   \n",
       "432               0             0             0             1             0   \n",
       "1209              0             0             0             0             0   \n",
       "1140              0             0             0             0             0   \n",
       "1520              0             0             0             0             1   \n",
       "654               1             0             0             0             0   \n",
       "138               0             0             0             0             0   \n",
       "120               0             0             0             1             0   \n",
       "649               0             0             1             0             0   \n",
       "1008              0             0             1             0             0   \n",
       "1349              0             0             0             0             0   \n",
       "409               0             0             0             0             0   \n",
       "884               0             1             0             0             0   \n",
       "864               0             0             0             0             0   \n",
       "776               1             0             0             0             0   \n",
       "1361              0             0             0             0             0   \n",
       "1474              0             0             0             0             0   \n",
       "700               0             0             0             1             0   \n",
       "870               0             0             0             0             0   \n",
       "1055              1             0             0             0             0   \n",
       "539               0             0             1             0             0   \n",
       "446               0             0             0             0             0   \n",
       "828               0             0             0             0             0   \n",
       "1360              0             0             0             0             0   \n",
       "307               0             0             0             0             0   \n",
       "247               0             0             0             0             1   \n",
       "...             ...           ...           ...           ...           ...   \n",
       "503               0             0             0             0             0   \n",
       "254               0             0             0             0             0   \n",
       "784               0             0             0             0             0   \n",
       "721               0             1             0             0             0   \n",
       "1251              0             0             0             0             0   \n",
       "342               0             0             0             0             1   \n",
       "217               0             0             0             0             0   \n",
       "1393              0             0             0             0             0   \n",
       "904               0             0             0             0             0   \n",
       "911               1             0             0             0             0   \n",
       "1428              0             0             0             0             0   \n",
       "722               1             0             0             0             0   \n",
       "1245              0             0             0             0             0   \n",
       "1292              0             0             0             0             0   \n",
       "359               0             0             1             0             0   \n",
       "1310              1             0             0             0             0   \n",
       "674               0             0             0             0             0   \n",
       "643               0             0             0             0             0   \n",
       "404               1             0             0             0             0   \n",
       "619               0             0             0             0             0   \n",
       "1241              0             0             0             0             1   \n",
       "328               1             0             0             0             0   \n",
       "1398              1             0             0             0             0   \n",
       "1260              0             0             0             0             0   \n",
       "704               0             0             0             0             0   \n",
       "689               0             0             0             0             0   \n",
       "727               1             0             0             0             0   \n",
       "1434              0             0             0             0             0   \n",
       "746               1             0             0             0             0   \n",
       "991               0             1             0             0             0   \n",
       "\n",
       "      month_sold_6  month_sold_7  month_sold_8  month_sold_9  \n",
       "549              0             0             0             1  \n",
       "1089             0             0             0             0  \n",
       "442              0             0             0             0  \n",
       "729              0             0             0             1  \n",
       "1445             0             0             0             0  \n",
       "432              0             0             0             0  \n",
       "1209             1             0             0             0  \n",
       "1140             0             0             0             0  \n",
       "1520             0             0             0             0  \n",
       "654              0             0             0             0  \n",
       "138              0             0             0             1  \n",
       "120              0             0             0             0  \n",
       "649              0             0             0             0  \n",
       "1008             0             0             0             0  \n",
       "1349             0             0             0             1  \n",
       "409              1             0             0             0  \n",
       "884              0             0             0             0  \n",
       "864              1             0             0             0  \n",
       "776              0             0             0             0  \n",
       "1361             0             0             1             0  \n",
       "1474             0             0             0             1  \n",
       "700              0             0             0             0  \n",
       "870              0             0             0             0  \n",
       "1055             0             0             0             0  \n",
       "539              0             0             0             0  \n",
       "446              1             0             0             0  \n",
       "828              0             0             0             0  \n",
       "1360             0             0             0             0  \n",
       "307              0             0             0             1  \n",
       "247              0             0             0             0  \n",
       "...            ...           ...           ...           ...  \n",
       "503              1             0             0             0  \n",
       "254              0             0             0             1  \n",
       "784              0             0             0             0  \n",
       "721              0             0             0             0  \n",
       "1251             0             1             0             0  \n",
       "342              0             0             0             0  \n",
       "217              0             0             0             1  \n",
       "1393             0             0             0             0  \n",
       "904              0             0             0             0  \n",
       "911              0             0             0             0  \n",
       "1428             1             0             0             0  \n",
       "722              0             0             0             0  \n",
       "1245             0             0             1             0  \n",
       "1292             0             1             0             0  \n",
       "359              0             0             0             0  \n",
       "1310             0             0             0             0  \n",
       "674              0             0             0             1  \n",
       "643              0             1             0             0  \n",
       "404              0             0             0             0  \n",
       "619              0             1             0             0  \n",
       "1241             0             0             0             0  \n",
       "328              0             0             0             0  \n",
       "1398             0             0             0             0  \n",
       "1260             0             0             0             0  \n",
       "704              0             0             0             0  \n",
       "689              0             0             1             0  \n",
       "727              0             0             0             0  \n",
       "1434             0             0             1             0  \n",
       "746              0             0             0             0  \n",
       "991              0             0             0             0  \n",
       "\n",
       "[871 rows x 62 columns]"
      ]
     },
     "execution_count": 33,
     "metadata": {},
     "output_type": "execute_result"
    }
   ],
   "source": [
    "pd.get_dummies(df_train)"
   ]
  },
  {
   "cell_type": "markdown",
   "metadata": {
    "nbpresent": {
     "id": "2c9819f7-5582-49a3-a112-091d83bb06aa"
    }
   },
   "source": [
    "<b>PART III: Modeling </b>"
   ]
  },
  {
   "cell_type": "code",
   "execution_count": 34,
   "metadata": {
    "collapsed": false,
    "nbpresent": {
     "id": "e5f5c04d-4623-44c4-9423-adcaa9da7895"
    }
   },
   "outputs": [],
   "source": [
    "#Import libraries\n",
    "from sklearn.linear_model import ElasticNet, Lasso,  BayesianRidge, LassoLarsIC\n",
    "from sklearn.ensemble import RandomForestRegressor,  GradientBoostingRegressor\n",
    "from sklearn.kernel_ridge import KernelRidge\n",
    "from sklearn.pipeline import make_pipeline\n",
    "from sklearn.preprocessing import RobustScaler\n",
    "from sklearn.base import BaseEstimator, TransformerMixin, RegressorMixin, clone\n",
    "from sklearn.model_selection import KFold, cross_val_score, train_test_split\n",
    "from sklearn.metrics import mean_squared_error\n",
    "import xgboost as xgb\n",
    "import lightgbm as lgb"
   ]
  },
  {
   "cell_type": "markdown",
   "metadata": {},
   "source": [
    "Define a cross-validation strategy\n"
   ]
  },
  {
   "cell_type": "code",
   "execution_count": 35,
   "metadata": {
    "collapsed": true
   },
   "outputs": [],
   "source": [
    "#Validation function\n",
    "n_folds = 5\n",
    "\n",
    "def rmsle_cv(model):\n",
    "    kf = KFold(n_folds, shuffle=True, random_state=42).get_n_splits(df_train.values)\n",
    "    rmse= np.sqrt(-cross_val_score(model, df_train.values, y_train, scoring=\"neg_mean_squared_error\", cv = kf))\n",
    "    return(rmse)"
   ]
  },
  {
   "cell_type": "code",
   "execution_count": 36,
   "metadata": {
    "collapsed": true
   },
   "outputs": [],
   "source": [
    "#Define base models\n",
    "#LASSO Regression\n",
    "#NOTE This model may be very sensitive to outliers, to\n",
    "#protect against this we use sklearn's Robustscaler method\n",
    "lasso = make_pipeline(RobustScaler(), Lasso(alpha =0.0005, random_state=1))\n",
    "\n",
    "#Elastic Net Regression\n",
    "#Again using the same technique to make it robust to outliers\n",
    "ENet = make_pipeline(RobustScaler(), ElasticNet(alpha=0.0005, l1_ratio=.9, random_state=3))\n",
    "\n",
    "#Kernel Ridge Regression\n",
    "KRR = KernelRidge(alpha=0.6, kernel='polynomial', degree=2, coef0=2.5)\n",
    "\n",
    "#Gradient Boosting Regression\n",
    "GBoost = GradientBoostingRegressor(n_estimators=3000, learning_rate=0.05,\n",
    "                                   max_depth=4, max_features='sqrt',\n",
    "                                   min_samples_leaf=15, min_samples_split=10, \n",
    "                                   loss='huber', random_state =5)\n",
    "\n",
    "#XGBoost \n",
    "model_xgb = xgb.XGBRegressor(colsample_bytree=0.4603, gamma=0.0468, \n",
    "                             learning_rate=0.05, max_depth=3, \n",
    "                             min_child_weight=1.7817, n_estimators=2200,\n",
    "                             reg_alpha=0.4640, reg_lambda=0.8571,\n",
    "                             subsample=0.5213, silent=1,\n",
    "                             random_state =7, nthread = -1)\n",
    "\n",
    "#LightGBM\n",
    "model_lgb = lgb.LGBMRegressor(objective='regression',num_leaves=5,\n",
    "                              learning_rate=0.05, n_estimators=720,\n",
    "                              max_bin = 55, bagging_fraction = 0.8,\n",
    "                              bagging_freq = 5, feature_fraction = 0.2319,\n",
    "                              feature_fraction_seed=9, bagging_seed=9,\n",
    "                              min_data_in_leaf =6, min_sum_hessian_in_leaf = 11)\n"
   ]
  },
  {
   "cell_type": "code",
   "execution_count": 37,
   "metadata": {
    "collapsed": false,
    "scrolled": true
   },
   "outputs": [
    {
     "name": "stdout",
     "output_type": "stream",
     "text": [
      "\n",
      "Lasso score: 0.3501 (0.0179)\n",
      "\n"
     ]
    }
   ],
   "source": [
    "score = rmsle_cv(lasso)\n",
    "print(\"\\nLasso score: {:.4f} ({:.4f})\\n\".format(score.mean(), score.std()))"
   ]
  },
  {
   "cell_type": "code",
   "execution_count": 38,
   "metadata": {
    "collapsed": false
   },
   "outputs": [
    {
     "name": "stdout",
     "output_type": "stream",
     "text": [
      "ElasticNet score: 0.3501 (0.0179)\n",
      "\n"
     ]
    }
   ],
   "source": [
    "score = rmsle_cv(ENet)\n",
    "print(\"ElasticNet score: {:.4f} ({:.4f})\\n\".format(score.mean(), score.std()))"
   ]
  },
  {
   "cell_type": "code",
   "execution_count": 39,
   "metadata": {
    "collapsed": false
   },
   "outputs": [
    {
     "name": "stdout",
     "output_type": "stream",
     "text": [
      "Kernel Ridge score: 0.3510 (0.0169)\n",
      "\n"
     ]
    }
   ],
   "source": [
    "score = rmsle_cv(KRR)\n",
    "print(\"Kernel Ridge score: {:.4f} ({:.4f})\\n\".format(score.mean(), score.std()))"
   ]
  },
  {
   "cell_type": "code",
   "execution_count": 40,
   "metadata": {
    "collapsed": false
   },
   "outputs": [
    {
     "name": "stdout",
     "output_type": "stream",
     "text": [
      "Gradient Boosting score: 0.2589 (0.0163)\n",
      "\n"
     ]
    }
   ],
   "source": [
    "score = rmsle_cv(GBoost)\n",
    "print(\"Gradient Boosting score: {:.4f} ({:.4f})\\n\".format(score.mean(), score.std()))"
   ]
  },
  {
   "cell_type": "code",
   "execution_count": 41,
   "metadata": {
    "collapsed": false,
    "scrolled": false
   },
   "outputs": [
    {
     "name": "stdout",
     "output_type": "stream",
     "text": [
      "Xgboost score: 0.2491 (0.0152)\n",
      "\n"
     ]
    }
   ],
   "source": [
    "score = rmsle_cv(model_xgb)\n",
    "print(\"Xgboost score: {:.4f} ({:.4f})\\n\".format(score.mean(), score.std()))"
   ]
  },
  {
   "cell_type": "code",
   "execution_count": 42,
   "metadata": {
    "collapsed": false
   },
   "outputs": [
    {
     "name": "stdout",
     "output_type": "stream",
     "text": [
      "LGBM score: 0.2634 (0.0103)\n",
      "\n"
     ]
    }
   ],
   "source": [
    "score = rmsle_cv(model_lgb)\n",
    "print(\"LGBM score: {:.4f} ({:.4f})\\n\" .format(score.mean(), score.std()))"
   ]
  },
  {
   "cell_type": "markdown",
   "metadata": {},
   "source": [
    "<b> Part IV: Stacking/Ensembling </b>"
   ]
  },
  {
   "cell_type": "code",
   "execution_count": 43,
   "metadata": {
    "collapsed": true,
    "nbpresent": {
     "id": "3ed18f81-d16d-41c7-9e19-c91638145df8"
    }
   },
   "outputs": [],
   "source": [
    "class AveragingModels(BaseEstimator, RegressorMixin, TransformerMixin):\n",
    "    def __init__(self, models):\n",
    "        self.models = models\n",
    "        \n",
    "    # we define clones of the original models to fit the data in\n",
    "    def fit(self, X, y):\n",
    "        self.models_ = [clone(x) for x in self.models]\n",
    "        \n",
    "        # Train cloned base models\n",
    "        for model in self.models_:\n",
    "            model.fit(X, y)\n",
    "\n",
    "        return self\n",
    "    \n",
    "    #Now we do the predictions for cloned models and average them\n",
    "    def predict(self, X):\n",
    "        predictions = np.column_stack([\n",
    "            model.predict(X) for model in self.models_\n",
    "        ])\n",
    "        return np.mean(predictions, axis=1)   "
   ]
  },
  {
   "cell_type": "code",
   "execution_count": 44,
   "metadata": {
    "collapsed": false
   },
   "outputs": [
    {
     "name": "stdout",
     "output_type": "stream",
     "text": [
      " Averaged base models score: 0.3047 (0.0173)\n",
      "\n"
     ]
    }
   ],
   "source": [
    "averaged_models = AveragingModels(models = (ENet, GBoost, KRR, lasso))\n",
    "\n",
    "score = rmsle_cv(averaged_models)\n",
    "print(\" Averaged base models score: {:.4f} ({:.4f})\\n\".format(score.mean(), score.std()))"
   ]
  }
 ],
 "metadata": {
  "anaconda-cloud": {},
  "kernelspec": {
   "display_name": "Python [conda env:rooftop]",
   "language": "python",
   "name": "conda-env-rooftop-py"
  },
  "language_info": {
   "codemirror_mode": {
    "name": "ipython",
    "version": 3
   },
   "file_extension": ".py",
   "mimetype": "text/x-python",
   "name": "python",
   "nbconvert_exporter": "python",
   "pygments_lexer": "ipython3",
   "version": "3.6.2"
  },
  "nbpresent": {
   "slides": {
    "14999a99-5696-416b-bfbe-9334ca8b3af7": {
     "id": "14999a99-5696-416b-bfbe-9334ca8b3af7",
     "prev": "6994cc5a-0ca0-4205-92b4-fa2de8d81105",
     "regions": {
      "12c378d5-da78-4bfd-9d52-9f816326a8b3": {
       "attrs": {
        "height": 0.8,
        "width": 0.8,
        "x": 0.1,
        "y": 0.1
       },
       "content": {
        "cell": "e3ab71cf-10d5-4fa4-88cf-cd0885618ea6",
        "part": "whole"
       },
       "id": "12c378d5-da78-4bfd-9d52-9f816326a8b3"
      }
     }
    },
    "14f11072-8c58-4716-aa41-9f2e7e002012": {
     "id": "14f11072-8c58-4716-aa41-9f2e7e002012",
     "prev": "e6d86e4d-53da-44e0-bf35-45ffae5fd7b4",
     "regions": {
      "75fd2576-8e06-4898-98bf-9843f95e0440": {
       "attrs": {
        "height": 0.8,
        "width": 0.8,
        "x": 0.1,
        "y": 0.1
       },
       "content": {
        "cell": "cf2560cb-59ae-4143-80f4-950ccfd3414b",
        "part": "whole"
       },
       "id": "75fd2576-8e06-4898-98bf-9843f95e0440"
      }
     }
    },
    "18a9a7df-7df8-4356-a506-9d50bd6deaf1": {
     "id": "18a9a7df-7df8-4356-a506-9d50bd6deaf1",
     "prev": "fdf1dcda-3b91-4b22-9dfa-072ac8ac2940",
     "regions": {
      "d9d9c656-f144-4da9-bc0c-8525283b60d1": {
       "attrs": {
        "height": 0.8,
        "width": 0.8,
        "x": 0.1,
        "y": 0.1
       },
       "content": {
        "cell": "00745cb0-a061-41a5-8a0e-cafbce9735dd",
        "part": "whole"
       },
       "id": "d9d9c656-f144-4da9-bc0c-8525283b60d1"
      }
     }
    },
    "1b0f556b-10ad-4abd-9b5a-0c5c66604898": {
     "id": "1b0f556b-10ad-4abd-9b5a-0c5c66604898",
     "prev": null,
     "regions": {
      "55261352-fd24-4e70-87e8-43b6bc2d39ad": {
       "attrs": {
        "height": 0.8,
        "width": 0.8,
        "x": 0.1,
        "y": 0.1
       },
       "content": {
        "cell": "7aaf7afc-8c31-40c9-a037-3be9563842ad",
        "part": "whole"
       },
       "id": "55261352-fd24-4e70-87e8-43b6bc2d39ad"
      }
     }
    },
    "221bf828-bd6a-4bc9-89d6-43f3e09b0175": {
     "id": "221bf828-bd6a-4bc9-89d6-43f3e09b0175",
     "prev": "a9e9f894-c949-44c5-ad38-7bb9dcd234f2",
     "regions": {
      "e294218f-1aeb-48f8-8959-68017e76d60c": {
       "attrs": {
        "height": 0.8,
        "width": 0.8,
        "x": 0.1,
        "y": 0.1
       },
       "content": {
        "cell": "2c9819f7-5582-49a3-a112-091d83bb06aa",
        "part": "whole"
       },
       "id": "e294218f-1aeb-48f8-8959-68017e76d60c"
      }
     }
    },
    "22ef6501-f225-4f10-a171-9d6617421f50": {
     "id": "22ef6501-f225-4f10-a171-9d6617421f50",
     "prev": "df3c1743-ec9b-44b5-ae42-2df3fbf112e3",
     "regions": {
      "e9be3324-274c-468d-9bcc-989418f4c821": {
       "attrs": {
        "height": 0.8,
        "width": 0.8,
        "x": 0.1,
        "y": 0.1
       },
       "content": {
        "cell": "4ac65935-3b47-489d-b0e4-2fc7541a985a",
        "part": "whole"
       },
       "id": "e9be3324-274c-468d-9bcc-989418f4c821"
      }
     }
    },
    "2c95565e-7036-4673-ae8d-fe73974fbece": {
     "id": "2c95565e-7036-4673-ae8d-fe73974fbece",
     "prev": "bd6c8fd0-c9e2-45a3-8084-e5f390941e34",
     "regions": {
      "228a0f44-1c66-49d6-9f05-53da82d67f12": {
       "attrs": {
        "height": 0.8,
        "width": 0.8,
        "x": 0.1,
        "y": 0.1
       },
       "content": {
        "cell": "2e44dc41-e841-4b50-aa2b-2118677a4e95",
        "part": "whole"
       },
       "id": "228a0f44-1c66-49d6-9f05-53da82d67f12"
      }
     }
    },
    "2ddde2c3-51b3-4821-b8c4-140a5a174128": {
     "id": "2ddde2c3-51b3-4821-b8c4-140a5a174128",
     "prev": "22ef6501-f225-4f10-a171-9d6617421f50",
     "regions": {
      "1968bb10-6b49-4496-92c5-ccdc21830293": {
       "attrs": {
        "height": 0.8,
        "width": 0.8,
        "x": 0.1,
        "y": 0.1
       },
       "content": {
        "cell": "a21a59ae-5996-4e01-8198-bca9eb9741ca",
        "part": "whole"
       },
       "id": "1968bb10-6b49-4496-92c5-ccdc21830293"
      }
     }
    },
    "34612dcd-ebc4-4f98-a64f-a0db48318bc3": {
     "id": "34612dcd-ebc4-4f98-a64f-a0db48318bc3",
     "prev": "625234f1-182e-4b57-803e-728ecbfe7f45",
     "regions": {
      "d0f52994-7f41-49f1-8f54-52c5713ead18": {
       "attrs": {
        "height": 0.8,
        "width": 0.8,
        "x": 0.1,
        "y": 0.1
       },
       "content": {
        "cell": "0040881c-b47f-4de0-a9d9-48bb6cb039bf",
        "part": "whole"
       },
       "id": "d0f52994-7f41-49f1-8f54-52c5713ead18"
      }
     }
    },
    "360d19d4-c942-4e73-8143-c15a486bd134": {
     "id": "360d19d4-c942-4e73-8143-c15a486bd134",
     "prev": "8302f66e-6831-4e06-8980-bdd93203899f",
     "regions": {
      "0826db14-6920-4705-a75c-980235e87fdd": {
       "attrs": {
        "height": 0.8,
        "width": 0.8,
        "x": 0.1,
        "y": 0.1
       },
       "content": {
        "cell": "d6b30124-cb3c-4765-8bd9-8000639e9825",
        "part": "whole"
       },
       "id": "0826db14-6920-4705-a75c-980235e87fdd"
      }
     }
    },
    "391c5521-7ab1-41db-ae5a-ab06682bff9e": {
     "id": "391c5521-7ab1-41db-ae5a-ab06682bff9e",
     "prev": "c17831ce-8e61-45b0-871c-03558f5bfc74",
     "regions": {
      "6477857d-ee25-4bce-88a9-169091e4c01e": {
       "attrs": {
        "height": 0.8,
        "width": 0.8,
        "x": 0.1,
        "y": 0.1
       },
       "content": {
        "cell": "77507577-bb0e-4e06-b4f7-7afc0655ef08",
        "part": "whole"
       },
       "id": "6477857d-ee25-4bce-88a9-169091e4c01e"
      }
     }
    },
    "41a26e59-9ebb-4fb6-bfcf-49f57b857390": {
     "id": "41a26e59-9ebb-4fb6-bfcf-49f57b857390",
     "prev": "18a9a7df-7df8-4356-a506-9d50bd6deaf1",
     "regions": {
      "8658b7d7-79ee-4826-8686-75ecff04bc46": {
       "attrs": {
        "height": 0.8,
        "width": 0.8,
        "x": 0.1,
        "y": 0.1
       },
       "content": {
        "cell": "91e0619a-261e-4e47-82da-e153c2d9ca10",
        "part": "whole"
       },
       "id": "8658b7d7-79ee-4826-8686-75ecff04bc46"
      }
     }
    },
    "42f15102-d344-419b-8589-8658a274e6d6": {
     "id": "42f15102-d344-419b-8589-8658a274e6d6",
     "prev": "b63c4169-eb8e-4c1d-b24e-d05fb2b9f0de",
     "regions": {
      "5312cb5d-2f13-4674-83a9-2aaa91edfb45": {
       "attrs": {
        "height": 0.8,
        "width": 0.8,
        "x": 0.1,
        "y": 0.1
       },
       "content": {
        "cell": "8119cf27-7e13-415e-a26e-a5c666661b6f",
        "part": "whole"
       },
       "id": "5312cb5d-2f13-4674-83a9-2aaa91edfb45"
      }
     }
    },
    "4912b97b-6220-4aba-94ee-b79f9e3c9b85": {
     "id": "4912b97b-6220-4aba-94ee-b79f9e3c9b85",
     "prev": "360d19d4-c942-4e73-8143-c15a486bd134",
     "regions": {
      "bf7a7462-7fdc-46ad-a2b1-c24a56a8a9e6": {
       "attrs": {
        "height": 0.8,
        "width": 0.8,
        "x": 0.1,
        "y": 0.1
       },
       "content": {
        "cell": "0fd9865d-2998-47c0-8638-fe83bd4d74cb",
        "part": "whole"
       },
       "id": "bf7a7462-7fdc-46ad-a2b1-c24a56a8a9e6"
      }
     }
    },
    "56dc4372-e75e-4c35-a068-ee8c2ef3acc2": {
     "id": "56dc4372-e75e-4c35-a068-ee8c2ef3acc2",
     "prev": "90cffc99-6b81-4789-bcb8-2c8f578ead53",
     "regions": {
      "66381b5c-8834-4518-b45f-846556599cd4": {
       "attrs": {
        "height": 0.8,
        "width": 0.8,
        "x": 0.1,
        "y": 0.1
       },
       "content": {
        "cell": "69b843c0-071e-41ba-9a3a-6ceac6aa3ece",
        "part": "whole"
       },
       "id": "66381b5c-8834-4518-b45f-846556599cd4"
      }
     }
    },
    "57755fd0-eb44-4e05-905b-cd202c75b2f7": {
     "id": "57755fd0-eb44-4e05-905b-cd202c75b2f7",
     "prev": "8ceced7c-4cab-45fd-aa05-c1230c9a3ed8",
     "regions": {
      "4051c3b8-0517-475d-9c51-a05bb68c8b5c": {
       "attrs": {
        "height": 0.8,
        "width": 0.8,
        "x": 0.1,
        "y": 0.1
       },
       "content": {
        "cell": "fef87f3f-30e2-4d3b-9c26-82872662d825",
        "part": "whole"
       },
       "id": "4051c3b8-0517-475d-9c51-a05bb68c8b5c"
      }
     }
    },
    "591b6b0d-7e6f-4c5c-b486-62dc826b227a": {
     "id": "591b6b0d-7e6f-4c5c-b486-62dc826b227a",
     "prev": "70d24cfe-e156-48da-a71f-20fd90cca5a2",
     "regions": {
      "2f5058f8-e2a4-499e-925e-cf55290fa172": {
       "attrs": {
        "height": 0.8,
        "width": 0.8,
        "x": 0.1,
        "y": 0.1
       },
       "content": {
        "cell": "0b72c39c-c595-4bcb-bf99-b14c87a087bc",
        "part": "whole"
       },
       "id": "2f5058f8-e2a4-499e-925e-cf55290fa172"
      }
     }
    },
    "5ca1aef5-418e-4581-8dbf-9b9af11114ca": {
     "id": "5ca1aef5-418e-4581-8dbf-9b9af11114ca",
     "prev": "5ebcb048-74b3-4279-b2e0-e8da4657d36d",
     "regions": {
      "9fa47aba-7c92-4c2f-9dfd-8b00af7da08a": {
       "attrs": {
        "height": 0.8,
        "width": 0.8,
        "x": 0.1,
        "y": 0.1
       },
       "content": {
        "cell": "487a167f-a302-4067-9f5c-40d2aa6513f2",
        "part": "whole"
       },
       "id": "9fa47aba-7c92-4c2f-9dfd-8b00af7da08a"
      }
     }
    },
    "5d5794a3-a1df-4bd3-af05-fb5a3e471617": {
     "id": "5d5794a3-a1df-4bd3-af05-fb5a3e471617",
     "prev": "5ca1aef5-418e-4581-8dbf-9b9af11114ca",
     "regions": {
      "5a596954-d427-40a2-84e5-ec55d31311b2": {
       "attrs": {
        "height": 0.8,
        "width": 0.8,
        "x": 0.1,
        "y": 0.1
       },
       "content": {
        "cell": "5c2b394a-6699-4273-99b2-0a24479d7f03",
        "part": "whole"
       },
       "id": "5a596954-d427-40a2-84e5-ec55d31311b2"
      }
     }
    },
    "5ebcb048-74b3-4279-b2e0-e8da4657d36d": {
     "id": "5ebcb048-74b3-4279-b2e0-e8da4657d36d",
     "prev": "cba59c6c-696e-43b3-a61c-90008cd36343",
     "regions": {
      "5217a2cf-8220-4546-98ee-6e97159b37b5": {
       "attrs": {
        "height": 0.8,
        "width": 0.8,
        "x": 0.1,
        "y": 0.1
       },
       "content": {
        "cell": "ee54b15d-59ca-4126-8f84-a51df7d00ef7",
        "part": "whole"
       },
       "id": "5217a2cf-8220-4546-98ee-6e97159b37b5"
      }
     }
    },
    "5f3e714a-5480-48f6-9414-35fb48a9b3f6": {
     "id": "5f3e714a-5480-48f6-9414-35fb48a9b3f6",
     "prev": "a35cd2d2-045b-41e8-a589-40addfd22fc5",
     "regions": {
      "084faaea-1829-4bcc-a5bf-05552d3c0f50": {
       "attrs": {
        "height": 0.8,
        "width": 0.8,
        "x": 0.1,
        "y": 0.1
       },
       "content": {
        "cell": "cbe4f51d-c206-4868-9282-b96b721c9a93",
        "part": "whole"
       },
       "id": "084faaea-1829-4bcc-a5bf-05552d3c0f50"
      }
     }
    },
    "614d0d91-ed09-4e7b-ae83-f651725799ac": {
     "id": "614d0d91-ed09-4e7b-ae83-f651725799ac",
     "prev": "a3c7a216-c134-49e6-8ce4-81f18afc6a86",
     "regions": {
      "aa5bcbef-5aac-4fef-b70c-b0c3a8347b46": {
       "attrs": {
        "height": 0.8,
        "width": 0.8,
        "x": 0.1,
        "y": 0.1
       },
       "content": {
        "cell": "2260a8be-a3c1-4b11-b37a-f7686f25778a",
        "part": "whole"
       },
       "id": "aa5bcbef-5aac-4fef-b70c-b0c3a8347b46"
      }
     }
    },
    "625234f1-182e-4b57-803e-728ecbfe7f45": {
     "id": "625234f1-182e-4b57-803e-728ecbfe7f45",
     "prev": "7a129a7b-438f-4f1d-8b0e-8f90bcf3eff2",
     "regions": {
      "27ca4afd-2656-45ad-b1a9-1f2ed5045cc5": {
       "attrs": {
        "height": 0.8,
        "width": 0.8,
        "x": 0.1,
        "y": 0.1
       },
       "content": {
        "cell": "917b1484-2851-42fd-ad8f-4c99bf647f51",
        "part": "whole"
       },
       "id": "27ca4afd-2656-45ad-b1a9-1f2ed5045cc5"
      }
     }
    },
    "6994cc5a-0ca0-4205-92b4-fa2de8d81105": {
     "id": "6994cc5a-0ca0-4205-92b4-fa2de8d81105",
     "prev": "4912b97b-6220-4aba-94ee-b79f9e3c9b85",
     "regions": {
      "c81afa6a-00f4-4a86-8565-105efee9ec0a": {
       "attrs": {
        "height": 0.8,
        "width": 0.8,
        "x": 0.1,
        "y": 0.1
       },
       "content": {
        "cell": "8bb8813a-f3fe-4193-8d98-98a37dd17a40",
        "part": "whole"
       },
       "id": "c81afa6a-00f4-4a86-8565-105efee9ec0a"
      }
     }
    },
    "6bb24332-4754-43a4-9a3d-3eb3bcee8b99": {
     "id": "6bb24332-4754-43a4-9a3d-3eb3bcee8b99",
     "prev": "bb03b1a1-f530-48e0-b563-7d9bc93d39f2",
     "regions": {
      "a67a7eae-e151-4492-96b4-a54b6dc29028": {
       "attrs": {
        "height": 0.8,
        "width": 0.8,
        "x": 0.1,
        "y": 0.1
       },
       "content": {
        "cell": "eee8fa52-f18c-4bc6-9470-693efc7fd732",
        "part": "whole"
       },
       "id": "a67a7eae-e151-4492-96b4-a54b6dc29028"
      }
     }
    },
    "70d24cfe-e156-48da-a71f-20fd90cca5a2": {
     "id": "70d24cfe-e156-48da-a71f-20fd90cca5a2",
     "prev": "a1bc2063-1d34-42f0-bc82-54403726226e",
     "regions": {
      "08b2c086-ee99-4695-b498-9b014361e2fd": {
       "attrs": {
        "height": 0.8,
        "width": 0.8,
        "x": 0.1,
        "y": 0.1
       },
       "content": {
        "cell": "a040cd46-6b98-4c7f-9376-bd91f9ff256c",
        "part": "whole"
       },
       "id": "08b2c086-ee99-4695-b498-9b014361e2fd"
      }
     }
    },
    "73e69b50-af24-494d-8865-6dcf40a9e9b1": {
     "id": "73e69b50-af24-494d-8865-6dcf40a9e9b1",
     "prev": "e6270b51-a3a6-4895-af99-c79b02df7cf1",
     "regions": {
      "3ea3c162-c8dc-48e3-9fac-d8d888eb019c": {
       "attrs": {
        "height": 0.8,
        "width": 0.8,
        "x": 0.1,
        "y": 0.1
       },
       "content": {
        "cell": "ce427c31-6516-42e2-8691-144a0eff4ae1",
        "part": "whole"
       },
       "id": "3ea3c162-c8dc-48e3-9fac-d8d888eb019c"
      }
     }
    },
    "7a129a7b-438f-4f1d-8b0e-8f90bcf3eff2": {
     "id": "7a129a7b-438f-4f1d-8b0e-8f90bcf3eff2",
     "prev": "ad60ee38-37a5-48ca-89f3-e8d530c7b469",
     "regions": {
      "e34bde71-a958-42cd-a7d8-02bbfb95566b": {
       "attrs": {
        "height": 0.8,
        "width": 0.8,
        "x": 0.1,
        "y": 0.1
       },
       "content": {
        "cell": "0a7f2b60-e5a6-4e41-8e5d-ae23dad18427",
        "part": "whole"
       },
       "id": "e34bde71-a958-42cd-a7d8-02bbfb95566b"
      }
     }
    },
    "812495b2-c6e4-4463-805f-b8266126c3a8": {
     "id": "812495b2-c6e4-4463-805f-b8266126c3a8",
     "prev": "5f3e714a-5480-48f6-9414-35fb48a9b3f6",
     "regions": {
      "0dc965cb-f285-4c36-9617-9ea36bc85a31": {
       "attrs": {
        "height": 0.8,
        "width": 0.8,
        "x": 0.1,
        "y": 0.1
       },
       "content": {
        "cell": "d38ba30e-002d-4d01-986c-0c0e026463a0",
        "part": "whole"
       },
       "id": "0dc965cb-f285-4c36-9617-9ea36bc85a31"
      }
     }
    },
    "8302f66e-6831-4e06-8980-bdd93203899f": {
     "id": "8302f66e-6831-4e06-8980-bdd93203899f",
     "prev": "a172260e-1e4f-4f90-8369-65054879078d",
     "regions": {
      "6ebec21e-ee48-4a41-8aef-bf0fd7ab6c3e": {
       "attrs": {
        "height": 0.8,
        "width": 0.8,
        "x": 0.1,
        "y": 0.1
       },
       "content": {
        "cell": "7306a075-636a-4c39-b963-dbdb2b3a5ee3",
        "part": "whole"
       },
       "id": "6ebec21e-ee48-4a41-8aef-bf0fd7ab6c3e"
      }
     }
    },
    "85b99ab9-73b3-43b5-af97-4eda72c4feba": {
     "id": "85b99ab9-73b3-43b5-af97-4eda72c4feba",
     "prev": "2c95565e-7036-4673-ae8d-fe73974fbece",
     "regions": {
      "c5599bc2-b0fc-428f-95b7-9772ae519af5": {
       "attrs": {
        "height": 0.8,
        "width": 0.8,
        "x": 0.1,
        "y": 0.1
       },
       "content": {
        "cell": "29c3d594-323f-4d39-8d3d-c1f4154288b0",
        "part": "whole"
       },
       "id": "c5599bc2-b0fc-428f-95b7-9772ae519af5"
      }
     }
    },
    "8ceced7c-4cab-45fd-aa05-c1230c9a3ed8": {
     "id": "8ceced7c-4cab-45fd-aa05-c1230c9a3ed8",
     "prev": "14f11072-8c58-4716-aa41-9f2e7e002012",
     "regions": {
      "a2bcbf41-a611-4041-a438-746384c06157": {
       "attrs": {
        "height": 0.8,
        "width": 0.8,
        "x": 0.1,
        "y": 0.1
       },
       "content": {
        "cell": "004642b0-4eee-4e94-a017-40301d7ae593",
        "part": "whole"
       },
       "id": "a2bcbf41-a611-4041-a438-746384c06157"
      }
     }
    },
    "90cffc99-6b81-4789-bcb8-2c8f578ead53": {
     "id": "90cffc99-6b81-4789-bcb8-2c8f578ead53",
     "prev": "6bb24332-4754-43a4-9a3d-3eb3bcee8b99",
     "regions": {
      "e9d17da2-d21b-4000-ba6c-f0a36ea7b297": {
       "attrs": {
        "height": 0.8,
        "width": 0.8,
        "x": 0.1,
        "y": 0.1
       },
       "content": {
        "cell": "8d810b47-3cc3-476d-802c-6814d66ae94f",
        "part": "whole"
       },
       "id": "e9d17da2-d21b-4000-ba6c-f0a36ea7b297"
      }
     }
    },
    "9846b561-8a3d-405e-a56e-6e5eb642434e": {
     "id": "9846b561-8a3d-405e-a56e-6e5eb642434e",
     "prev": "221bf828-bd6a-4bc9-89d6-43f3e09b0175",
     "regions": {
      "9f9ae080-add4-481e-9577-5e5f82650f48": {
       "attrs": {
        "height": 0.8,
        "width": 0.8,
        "x": 0.1,
        "y": 0.1
       },
       "content": {
        "cell": "e5f5c04d-4623-44c4-9423-adcaa9da7895",
        "part": "whole"
       },
       "id": "9f9ae080-add4-481e-9577-5e5f82650f48"
      }
     }
    },
    "a07db5b7-7565-443e-ba43-b4b02b420f96": {
     "id": "a07db5b7-7565-443e-ba43-b4b02b420f96",
     "prev": "9846b561-8a3d-405e-a56e-6e5eb642434e",
     "regions": {
      "eb84256b-f0c9-4db1-8c31-db7a17558fa0": {
       "attrs": {
        "height": 0.8,
        "width": 0.8,
        "x": 0.1,
        "y": 0.1
       },
       "content": {
        "cell": "30b66aaf-3eb9-4f01-ac06-d3184d97c6fe",
        "part": "whole"
       },
       "id": "eb84256b-f0c9-4db1-8c31-db7a17558fa0"
      }
     }
    },
    "a172260e-1e4f-4f90-8369-65054879078d": {
     "id": "a172260e-1e4f-4f90-8369-65054879078d",
     "prev": "85b99ab9-73b3-43b5-af97-4eda72c4feba",
     "regions": {
      "df637e44-cd23-4512-b0ad-e4bcb3b6179f": {
       "attrs": {
        "height": 0.8,
        "width": 0.8,
        "x": 0.1,
        "y": 0.1
       },
       "content": {
        "cell": "9a4292c8-2c54-4aa6-aee0-239eab587404",
        "part": "whole"
       },
       "id": "df637e44-cd23-4512-b0ad-e4bcb3b6179f"
      }
     }
    },
    "a1bc2063-1d34-42f0-bc82-54403726226e": {
     "id": "a1bc2063-1d34-42f0-bc82-54403726226e",
     "prev": "57755fd0-eb44-4e05-905b-cd202c75b2f7",
     "regions": {
      "bab53601-e828-4242-adf0-2e0cbd76f9b8": {
       "attrs": {
        "height": 0.8,
        "width": 0.8,
        "x": 0.1,
        "y": 0.1
       },
       "content": {
        "cell": "efc70657-cf09-4cfe-9c61-12868d6f567b",
        "part": "whole"
       },
       "id": "bab53601-e828-4242-adf0-2e0cbd76f9b8"
      }
     }
    },
    "a35cd2d2-045b-41e8-a589-40addfd22fc5": {
     "id": "a35cd2d2-045b-41e8-a589-40addfd22fc5",
     "prev": "391c5521-7ab1-41db-ae5a-ab06682bff9e",
     "regions": {
      "e2d358ea-0a3b-4a21-ab3c-44499e67a32a": {
       "attrs": {
        "height": 0.8,
        "width": 0.8,
        "x": 0.1,
        "y": 0.1
       },
       "content": {
        "cell": "6b91663d-7c0d-490b-aae7-cce8b9c68291",
        "part": "whole"
       },
       "id": "e2d358ea-0a3b-4a21-ab3c-44499e67a32a"
      }
     }
    },
    "a3c7a216-c134-49e6-8ce4-81f18afc6a86": {
     "id": "a3c7a216-c134-49e6-8ce4-81f18afc6a86",
     "prev": "591b6b0d-7e6f-4c5c-b486-62dc826b227a",
     "regions": {
      "14ce421a-e931-4481-9dc8-b77015b5a0bf": {
       "attrs": {
        "height": 0.8,
        "width": 0.8,
        "x": 0.1,
        "y": 0.1
       },
       "content": {
        "cell": "95d0bc54-8ca5-4dd3-ac82-991d1f949460",
        "part": "whole"
       },
       "id": "14ce421a-e931-4481-9dc8-b77015b5a0bf"
      }
     }
    },
    "a9e9f894-c949-44c5-ad38-7bb9dcd234f2": {
     "id": "a9e9f894-c949-44c5-ad38-7bb9dcd234f2",
     "prev": "14999a99-5696-416b-bfbe-9334ca8b3af7",
     "regions": {
      "aab73cee-017e-460b-8fb4-df4ed0e780fe": {
       "attrs": {
        "height": 0.8,
        "width": 0.8,
        "x": 0.1,
        "y": 0.1
       },
       "content": {
        "cell": "7ffc1760-fd0a-4a8b-9d92-70f3b182cf23",
        "part": "whole"
       },
       "id": "aab73cee-017e-460b-8fb4-df4ed0e780fe"
      }
     }
    },
    "ad60ee38-37a5-48ca-89f3-e8d530c7b469": {
     "id": "ad60ee38-37a5-48ca-89f3-e8d530c7b469",
     "prev": "812495b2-c6e4-4463-805f-b8266126c3a8",
     "regions": {
      "377afd33-a2cb-4b70-ae87-8d58db967890": {
       "attrs": {
        "height": 0.8,
        "width": 0.8,
        "x": 0.1,
        "y": 0.1
       },
       "content": {
        "cell": "38bae5e0-b230-4498-b119-e768e6ffe861",
        "part": "whole"
       },
       "id": "377afd33-a2cb-4b70-ae87-8d58db967890"
      }
     }
    },
    "b63c4169-eb8e-4c1d-b24e-d05fb2b9f0de": {
     "id": "b63c4169-eb8e-4c1d-b24e-d05fb2b9f0de",
     "prev": "a07db5b7-7565-443e-ba43-b4b02b420f96",
     "regions": {
      "54115c2b-fcf7-4ce7-a030-8f284a8fcc40": {
       "attrs": {
        "height": 0.8,
        "width": 0.8,
        "x": 0.1,
        "y": 0.1
       },
       "content": {
        "cell": "3ed18f81-d16d-41c7-9e19-c91638145df8",
        "part": "whole"
       },
       "id": "54115c2b-fcf7-4ce7-a030-8f284a8fcc40"
      }
     }
    },
    "bb03b1a1-f530-48e0-b563-7d9bc93d39f2": {
     "id": "bb03b1a1-f530-48e0-b563-7d9bc93d39f2",
     "prev": "5d5794a3-a1df-4bd3-af05-fb5a3e471617",
     "regions": {
      "40cf95b1-910e-4c8a-870c-90af1035649a": {
       "attrs": {
        "height": 0.8,
        "width": 0.8,
        "x": 0.1,
        "y": 0.1
       },
       "content": {
        "cell": "6bb0a335-c907-4b44-8aeb-dc45accdd821",
        "part": "whole"
       },
       "id": "40cf95b1-910e-4c8a-870c-90af1035649a"
      }
     }
    },
    "bd6c8fd0-c9e2-45a3-8084-e5f390941e34": {
     "id": "bd6c8fd0-c9e2-45a3-8084-e5f390941e34",
     "prev": "ec81bcff-34d5-4858-921e-c4b5d179e63f",
     "regions": {
      "b14ed70c-52df-4c50-bc70-138ca9421b7b": {
       "attrs": {
        "height": 0.8,
        "width": 0.8,
        "x": 0.1,
        "y": 0.1
       },
       "content": {
        "cell": "d0e25907-dc43-4050-9ba5-6303480a93fc",
        "part": "whole"
       },
       "id": "b14ed70c-52df-4c50-bc70-138ca9421b7b"
      }
     }
    },
    "c17831ce-8e61-45b0-871c-03558f5bfc74": {
     "id": "c17831ce-8e61-45b0-871c-03558f5bfc74",
     "prev": "41a26e59-9ebb-4fb6-bfcf-49f57b857390",
     "regions": {
      "b895b705-4974-4256-9d82-2606ac0050c9": {
       "attrs": {
        "height": 0.8,
        "width": 0.8,
        "x": 0.1,
        "y": 0.1
       },
       "content": {
        "cell": "f47c4cce-e7b9-4181-be8e-b08a9057dc54",
        "part": "whole"
       },
       "id": "b895b705-4974-4256-9d82-2606ac0050c9"
      }
     }
    },
    "cb7bb2b3-cde4-48af-8186-27159ba177bc": {
     "id": "cb7bb2b3-cde4-48af-8186-27159ba177bc",
     "prev": "d531900d-6466-4a0f-a41b-4c1f8ab3d74b",
     "regions": {
      "d10bc466-906e-47ae-aa9a-e3c964220181": {
       "attrs": {
        "height": 0.8,
        "width": 0.8,
        "x": 0.1,
        "y": 0.1
       },
       "content": {
        "cell": "1fc1165e-96fc-43c6-b3f4-0dea42d0f087",
        "part": "whole"
       },
       "id": "d10bc466-906e-47ae-aa9a-e3c964220181"
      }
     }
    },
    "cba59c6c-696e-43b3-a61c-90008cd36343": {
     "id": "cba59c6c-696e-43b3-a61c-90008cd36343",
     "prev": "73e69b50-af24-494d-8865-6dcf40a9e9b1",
     "regions": {
      "bd2a3a29-9973-44d4-8e32-cbe46d525787": {
       "attrs": {
        "height": 0.8,
        "width": 0.8,
        "x": 0.1,
        "y": 0.1
       },
       "content": {
        "cell": "36adf7a3-8db6-4bb7-8c6b-1b12735007b9",
        "part": "whole"
       },
       "id": "bd2a3a29-9973-44d4-8e32-cbe46d525787"
      }
     }
    },
    "d531900d-6466-4a0f-a41b-4c1f8ab3d74b": {
     "id": "d531900d-6466-4a0f-a41b-4c1f8ab3d74b",
     "prev": "34612dcd-ebc4-4f98-a64f-a0db48318bc3",
     "regions": {
      "b522a547-f820-4b24-b827-631105750fbb": {
       "attrs": {
        "height": 0.8,
        "width": 0.8,
        "x": 0.1,
        "y": 0.1
       },
       "content": {
        "cell": "45305a38-5626-456d-8e2f-66b5f6de08ee",
        "part": "whole"
       },
       "id": "b522a547-f820-4b24-b827-631105750fbb"
      }
     }
    },
    "df3c1743-ec9b-44b5-ae42-2df3fbf112e3": {
     "id": "df3c1743-ec9b-44b5-ae42-2df3fbf112e3",
     "prev": "56dc4372-e75e-4c35-a068-ee8c2ef3acc2",
     "regions": {
      "554cca26-b3b6-438f-8d76-631c5eaff755": {
       "attrs": {
        "height": 0.8,
        "width": 0.8,
        "x": 0.1,
        "y": 0.1
       },
       "content": {
        "cell": "63e2aa1a-a5f6-4b16-868c-cedf858fec31",
        "part": "whole"
       },
       "id": "554cca26-b3b6-438f-8d76-631c5eaff755"
      }
     }
    },
    "e6270b51-a3a6-4895-af99-c79b02df7cf1": {
     "id": "e6270b51-a3a6-4895-af99-c79b02df7cf1",
     "prev": "614d0d91-ed09-4e7b-ae83-f651725799ac",
     "regions": {
      "ca9a5451-620e-4b2f-8096-3a3f14c7f0ae": {
       "attrs": {
        "height": 0.8,
        "width": 0.8,
        "x": 0.1,
        "y": 0.1
       },
       "content": {
        "cell": "e248506e-e3ca-4358-a840-0ed31ae75769",
        "part": "whole"
       },
       "id": "ca9a5451-620e-4b2f-8096-3a3f14c7f0ae"
      }
     }
    },
    "e6d86e4d-53da-44e0-bf35-45ffae5fd7b4": {
     "id": "e6d86e4d-53da-44e0-bf35-45ffae5fd7b4",
     "prev": "1b0f556b-10ad-4abd-9b5a-0c5c66604898",
     "regions": {
      "4138e7cb-a665-44a0-bbaa-7f3b6ad31624": {
       "attrs": {
        "height": 0.8,
        "width": 0.8,
        "x": 0.1,
        "y": 0.1
       },
       "content": {
        "cell": "e02f35fd-63e7-4aa0-a9bf-68e1313775d1",
        "part": "whole"
       },
       "id": "4138e7cb-a665-44a0-bbaa-7f3b6ad31624"
      }
     }
    },
    "ec81bcff-34d5-4858-921e-c4b5d179e63f": {
     "id": "ec81bcff-34d5-4858-921e-c4b5d179e63f",
     "prev": "cb7bb2b3-cde4-48af-8186-27159ba177bc",
     "regions": {
      "225f1cda-5dd5-49c7-a004-426ace5d6053": {
       "attrs": {
        "height": 0.8,
        "width": 0.8,
        "x": 0.1,
        "y": 0.1
       },
       "content": {
        "cell": "85a17cc1-7227-46cf-98c8-3855ecdf46d0",
        "part": "whole"
       },
       "id": "225f1cda-5dd5-49c7-a004-426ace5d6053"
      }
     }
    },
    "f382fd71-7ab7-4bdd-9e98-57a4e33c1f72": {
     "id": "f382fd71-7ab7-4bdd-9e98-57a4e33c1f72",
     "prev": "42f15102-d344-419b-8589-8658a274e6d6",
     "regions": {
      "01233784-70ca-4831-993b-118e9412b325": {
       "attrs": {
        "height": 0.8,
        "width": 0.8,
        "x": 0.1,
        "y": 0.1
       },
       "content": {
        "cell": "e06eaa13-2379-402f-8cea-f0adeef59020",
        "part": "whole"
       },
       "id": "01233784-70ca-4831-993b-118e9412b325"
      }
     }
    },
    "fdf1dcda-3b91-4b22-9dfa-072ac8ac2940": {
     "id": "fdf1dcda-3b91-4b22-9dfa-072ac8ac2940",
     "prev": "2ddde2c3-51b3-4821-b8c4-140a5a174128",
     "regions": {
      "b88f5a1b-49ce-4bac-956e-cb24920b8f21": {
       "attrs": {
        "height": 0.8,
        "width": 0.8,
        "x": 0.1,
        "y": 0.1
       },
       "content": {
        "cell": "598149e0-a488-49d7-942e-4f06414f6942",
        "part": "whole"
       },
       "id": "b88f5a1b-49ce-4bac-956e-cb24920b8f21"
      }
     }
    }
   },
   "themes": {}
  }
 },
 "nbformat": 4,
 "nbformat_minor": 1
}
